{
 "cells": [
  {
   "cell_type": "raw",
   "id": "6d743e49",
   "metadata": {},
   "source": [
    "1. What is the concept of human learning? Please give two examples."
   ]
  },
  {
   "cell_type": "raw",
   "id": "2d011929",
   "metadata": {},
   "source": [
    "Learning is the process of acuqiring new under standing, knowledge, behaviours,skills , values,attitudes and preferences.\n",
    "If congition, memory and intelligence are underlying mechanisms that allow people to perceive process and apply information for daily adaption, Then learning is a natural consequences of these mechanisms.\n",
    "Siging or memorizing a poem or mathematical table and learning to drive a car  These are some human learning concepts.\n",
    "\n",
    "Human learning is a process varies from person to person ,Once a learning is set into the minds of people, it is difficult to chaange it , But in ML it is easy."
   ]
  },
  {
   "cell_type": "raw",
   "id": "626c224a",
   "metadata": {},
   "source": [
    "2. What different forms of human learning are there? Are there any machine learning equivalents?"
   ]
  },
  {
   "cell_type": "raw",
   "id": "ae6d1640",
   "metadata": {},
   "source": [
    "Three major types of human lerning are \n",
    "1.Learning through association :  Classical Conditioning\n",
    "2.Learning through consequences : Operant conditioning\n",
    "3.Learning through observation : Modeling or Observational learning\n",
    "\n",
    "There are some ML algorithms relavent to the human learning\n",
    "1.Supervised machine learning is similar to concept learning\n",
    "2.ReinForcement learning is inspired by the reward system of operant conditioning.\n",
    "3.AI follows Hebbian learning."
   ]
  },
  {
   "cell_type": "raw",
   "id": "5dd764b4",
   "metadata": {},
   "source": [
    "3. What is machine learning, and how does it work? What are the key responsibilities of machine learning?"
   ]
  },
  {
   "cell_type": "raw",
   "id": "a2d206d4",
   "metadata": {},
   "source": [
    "Machine Learning algorithm tries to find out the relationship or pattern of given dataset and the key responsibility of machine learning is to analysis , visualization,performance and predictions."
   ]
  },
  {
   "cell_type": "raw",
   "id": "64672dea",
   "metadata": {},
   "source": [
    "4. Define the terms \"penalty\" and \"reward\" in the context of reinforcement learning."
   ]
  },
  {
   "cell_type": "raw",
   "id": "d5845a90",
   "metadata": {},
   "source": [
    "A reinforcement algorithm which may also be reffered to as an agent, Learns by interacting with its environments.\n",
    "The agent receiving rewards by performing correctly and penalities for performing in correctly.\n",
    "The agents learn without intervention from human by maximizing its reward and minimizing its penalty.\n",
    "Reinforcement learning is all about gamifying the learning process .This type of a machine learning uses a reward,penalty to teach an AI.\n",
    "If it makes the right it gets rewarded.\n",
    "If it make a mistake it receives penalty."
   ]
  },
  {
   "cell_type": "raw",
   "id": "11d5ba7a",
   "metadata": {},
   "source": [
    "5. Explain the term \"learning as a search\"?"
   ]
  },
  {
   "cell_type": "raw",
   "id": "5a7df51b",
   "metadata": {},
   "source": [
    "Concept learning can be viewed as the task of searching through a large spaces of hypothesis implictily defined by the hypothesis representation.\n",
    "The goal of these search is to find the hypothesis that best fit training examples.\n",
    "By selecting a hypothesis representation , The designer of the learning algorithm implicitly define the space of all hypothesis that the program can over representation and therfore can learn ever."
   ]
  },
  {
   "cell_type": "raw",
   "id": "27b65c7e",
   "metadata": {},
   "source": [
    "6. What are the various goals of machine learning? What is the relationship between these and human learning?"
   ]
  },
  {
   "cell_type": "raw",
   "id": "c574f41c",
   "metadata": {},
   "source": [
    "The goal of machine learning often not always, to train a model on historical,labelled data in order to predict the value of some quantity on the basis of a new data item for which the target value or classification unknown.\n",
    "The goal of machinelearning to achieve through understandingabout the nature of the learning process about the computational aspects of learning behaviours to implant the learning capability in computer systems.\n",
    "To make the computer smarter, more intelligencet, The more objective in this aspect is to develope systems for specific practical learning tasks in application domains.\n",
    "To develope computational model of human learning process and perform computer simulation .The study in the aspect is called congitive modeling.\n",
    "\n",
    "Humans acquiure knowledge through experiance eiether directly or showedd by others . machine acquire knowledge through experence shared by past data.\n",
    "The basic learning process is similar."
   ]
  },
  {
   "cell_type": "raw",
   "id": "236ab817",
   "metadata": {},
   "source": [
    "7. Illustrate the various elements of machine learning using a real-life illustration."
   ]
  },
  {
   "cell_type": "raw",
   "id": "d44570af",
   "metadata": {},
   "source": [
    "1.Image reciginition\n",
    "2.speech recongintion\n",
    "3.medical diagnosis\n",
    "4.statistical arbitrage\n",
    "5.predictive analytics\n",
    "7.Extraction"
   ]
  },
  {
   "cell_type": "raw",
   "id": "4edb611e",
   "metadata": {},
   "source": [
    "8. Provide an example of the abstraction method."
   ]
  },
  {
   "cell_type": "raw",
   "id": "e37cf873",
   "metadata": {},
   "source": [
    "The mostly used abstraction approches are feature selection and feature discretization and they are exemplified on a very simple task.\n",
    "Feature selection ,Reinfoecement learning,Markov decision process,inductive logic programming,Relational learning.\n",
    "Abstraction means in ML is constructing new terms from existing ones,A mapping between formalisms that reduces the computational complexity of the task at stake"
   ]
  },
  {
   "cell_type": "raw",
   "id": "07e43cdf",
   "metadata": {},
   "source": [
    "9. What is the concept of generalization? What function does it play in the machine learning process?"
   ]
  },
  {
   "cell_type": "raw",
   "id": "02e3beca",
   "metadata": {},
   "source": [
    "Generalization refers to your models ability to adopt properly to new, previously unseen data , drawn from the saame distribution as the one used to create model.\n",
    "how well is a trained model to classify or forecast on unseen data.\n",
    "It plays bias-variance trade off."
   ]
  },
  {
   "cell_type": "raw",
   "id": "d2db6fc7",
   "metadata": {},
   "source": [
    "10.What is classification, exactly? What are the main distinctions between classification and regression?"
   ]
  },
  {
   "cell_type": "raw",
   "id": "746227d2",
   "metadata": {},
   "source": [
    "Classification is the problem of identifying which of a set of a categories an observation belongs to.\n",
    "we are expecting an outcome from a constant predefined number of objects or number of claasses is known as classification.\n",
    "In classification we know what is its outcome or target variable.\n",
    "In regression we dont have these type of outcome or target variable."
   ]
  },
  {
   "cell_type": "raw",
   "id": "7419d616",
   "metadata": {},
   "source": [
    "11. What is regression, and how does it work? Give an example of a real-world problem that was solved using regression."
   ]
  },
  {
   "cell_type": "raw",
   "id": "e4072b92",
   "metadata": {},
   "source": [
    "Regression is nothing but expecting a real value or continuous values.\n",
    "Regression is a technique for investing the relationship between independent and dependent variable or outcome.\n",
    "some real world problems in regression are predicting whether forcasting, finding house hold prices in different locations ..etc"
   ]
  },
  {
   "cell_type": "raw",
   "id": "93561571",
   "metadata": {},
   "source": [
    "12. Describe the clustering mechanism in detail."
   ]
  },
  {
   "cell_type": "raw",
   "id": "518b2a17",
   "metadata": {},
   "source": [
    "In clustering we dont have outcome value or target value.In clustering we have only independent features.\n",
    "Based on similarities or characteristics they are grouped to each other.\n",
    "Some of real world examples of clustering are e-commerce site,amazon,Flipkart these type sites are use clustering , to divide customer based on their characteristics."
   ]
  },
  {
   "cell_type": "raw",
   "id": "b0a818f8",
   "metadata": {},
   "source": [
    "13. Make brief observations on two of the following topics:\n",
    "i. Machine learning algorithms are used\n",
    "ii. Studying under supervision\n",
    "iii. Studying without supervision\n",
    "iv. Reinforcement learning is a form of learning based on positive reinforcement.\n"
   ]
  },
  {
   "cell_type": "raw",
   "id": "5cf0fea9",
   "metadata": {},
   "source": [
    "MACHINE LEARNING ALGORITHM: \n",
    "       Machine learning uses programed algoriThms that receive and analyse input data to predict output values within acceptable range.As new data is fed to these algorithms , They learning optimise their operations to improve performances, developing intelligence over time.\n",
    "       \n",
    "STUDYING UNDER SUPERVISION: \n",
    "     In supervised learning the machine is thaught by example.The operator provides the machine learning algorithm with a known datasetthat includes desired input and output and the algorithm must find a method to determine how to arrive at those input and output.\n",
    "     While the operator knows the correct answers to the problem , The algorithm identifies pattern in a data learn from observations and makes predictions.\n",
    "     The algorithm makes predictions and is corrected by the operatorand this process continues untill algorithm achieves a high level accuracy"
   ]
  },
  {
   "cell_type": "code",
   "execution_count": null,
   "id": "b66f0a87",
   "metadata": {},
   "outputs": [],
   "source": []
  }
 ],
 "metadata": {
  "kernelspec": {
   "display_name": "Python 3 (ipykernel)",
   "language": "python",
   "name": "python3"
  },
  "language_info": {
   "codemirror_mode": {
    "name": "ipython",
    "version": 3
   },
   "file_extension": ".py",
   "mimetype": "text/x-python",
   "name": "python",
   "nbconvert_exporter": "python",
   "pygments_lexer": "ipython3",
   "version": "3.9.7"
  }
 },
 "nbformat": 4,
 "nbformat_minor": 5
}

{
 "cells": [
  {
   "cell_type": "raw",
   "id": "b0c51a44",
   "metadata": {},
   "source": [
    "1.Explain the term machine learning, and how does it work? Explain two machine learning applications in the business world. What are some of the ethical concerns that machine learning applications could raise?"
   ]
  },
  {
   "cell_type": "raw",
   "id": "27aa10f0",
   "metadata": {},
   "source": [
    "Machine learning is a tool that allows systems the ability to learn and imporve automatically based upon experiance.\n",
    "Machine learning is development of computer programs that can access data and through a series of algorithms are used to learn for itself what action should be taken based on that data.\n",
    "\n",
    "examples: automated responders and online customer support, business forecasting\n",
    "\n",
    "ethical concerns are Accuaracy,Bias ,Fairness,Saftey and security, Privacy and accountability"
   ]
  },
  {
   "cell_type": "raw",
   "id": "b100de10",
   "metadata": {},
   "source": [
    "2. Describe the process of human learning:\n",
    "i. Under the supervision of experts\n",
    "\n",
    "ii. With the assistance of experts in an indirect manner\n",
    "\n",
    "iii. Self-education\n"
   ]
  },
  {
   "cell_type": "raw",
   "id": "d4271ef3",
   "metadata": {},
   "source": [
    "UNDER SUPERVISION OF EXPERTS: \n",
    "    Peoplewho have developed expertise in particular areas are , by defination, able to think effectively about the problems in those areas.Understanding expertise is importatnt because it provides insights into the nature of thinking and problem solving.\n",
    "    \n",
    "WITH THE ASSISTANCE OF EXPERTS IN AN INDIRECT MANNER:\n",
    "     Indirect instruction is an approach to learning and learning in which concepts , patterns and abstractions are tought in the context of strategies that emphasize concept learning, inquiry learning and problem centered learning\n",
    "     Instruction in which the student is using tools they have learned to complete an assignment proper or project\n",
    "     \n",
    "SELF-EDUCATION: \n",
    "      The act or process of educating one self by ones own efforts expecially through reading and informal study.A self educated individual can aim to learn a little bit by it everything or they can work hard toward mastering in a single subject.\n",
    "      It is act of learning your learning into your control"
   ]
  },
  {
   "cell_type": "raw",
   "id": "0f740463",
   "metadata": {},
   "source": [
    "3. Provide a few examples of various types of machine learning."
   ]
  },
  {
   "cell_type": "raw",
   "id": "a90c7923",
   "metadata": {},
   "source": [
    "Machine learning involves showing a large volume of datato a machine so that it can learn and make predictions find pattern or classifying data\n",
    "The three types of machine learning are\n",
    "1.SUPERVISED MACHINE LEARNING:\n",
    "     examples  : predicting real estate prices, classifying whether bank transactions are fraud or not , finding decease risk factors\n",
    "     \n",
    "2.UNSUPERVISED MACHINE LEARNING: \n",
    "     examples: creating customer groups based on purchase behaviour, Grouping inventory according to sales and manufacturing\n",
    "     \n",
    "3.REINFORCEMENT LEARNING:\n",
    "     Teaching cars to park themselves, dynamically controling traffic lights to redusce traffic issues"
   ]
  },
  {
   "cell_type": "raw",
   "id": "b598a878",
   "metadata": {},
   "source": [
    "4. Examine the various forms of machine learning."
   ]
  },
  {
   "cell_type": "raw",
   "id": "808055fd",
   "metadata": {},
   "source": [
    "The various forms of machie learning are Supervised machine learning,Unsupervised machine learning  and Reinforcement learning"
   ]
  },
  {
   "cell_type": "raw",
   "id": "f3cde665",
   "metadata": {},
   "source": [
    "5. Can you explain what a well-posed learning problem is? Explain the main characteristics that must be present to identify a learning problem properly."
   ]
  },
  {
   "cell_type": "raw",
   "id": "15201ff0",
   "metadata": {},
   "source": [
    "A machine learning problem is wel l posed if a solution to it exists, If that solution is unique and if that solution depends on the data or experiance but it is not sensitive to changes (reasonably small changes) in data or experiance \n",
    "\n",
    "A compurt program is said to learn from experiance E in the context to some task T and some performance mesurs P,upgrades with experiance E.\n",
    "Any problem can be segregrated as well posed learning problem if it has three traits \n",
    "1.Task\n",
    "2.Performance Measure\n",
    "3.Experiance"
   ]
  },
  {
   "cell_type": "raw",
   "id": "ceb8ccd6",
   "metadata": {},
   "source": [
    "6. Is machine learning capable of solving all problems? Give a detailed explanation of your answer."
   ]
  },
  {
   "cell_type": "raw",
   "id": "9e46b631",
   "metadata": {},
   "source": [
    "machine learning and relevent algorithms are used to classify or predict outcomes based on data,So machine learning is not the answer to all questions or problems.\n",
    "The idea of trusting data and algorithms more than our own judgement has its pro's and conn's.\n",
    "\n",
    "algorithm allows us to automate process by making informed judgements using available data.Sometimes replacing tob with an algorithm, Which comes with ethical ramifications.\n",
    "Machine learning is stichastic, not deterministic.\n",
    "\n",
    "Reasoning power, Contextual limitation , scalability and some other problems are not solved in ML."
   ]
  },
  {
   "cell_type": "raw",
   "id": "c1359355",
   "metadata": {},
   "source": [
    "7. What are the various methods and technologies for solving machine learning problems? Any two of them should be defined in detail."
   ]
  },
  {
   "cell_type": "raw",
   "id": "093da9e3",
   "metadata": {},
   "source": [
    "There are some methods and technologies for solving machine learning problems like scikit-learn,pytorch,tensor flow,.weka,colab,keras..etc\n",
    "SCIKT-LEARN: \n",
    "       scikit-learn is for machine learning development in python.It provides  a library for the python programing language.\n",
    "       It helps in data mining and data analysis\n",
    "       It provides models and algorithms for classification,Regression,Clustering,Dimensionality reduction,model selection and preprocessing.\n",
    "       Easily understandable and documentation is provided.\n",
    "       Parameters for any specific algorithm can be changed while calling objects.\n",
    "       \n",
    "       \n",
    "PY-TORCH: \n",
    "    py-torch is  a torch based, python machine learning library. The torch is a LUA based computing frame workscripting language and machine learning library.\n",
    "      It helps in building neural networks through autogated module.\n",
    "      It provides a variety of optimization algorithms for building neural networks.\n",
    "      It provides distributed training various tools and libraries"
   ]
  },
  {
   "cell_type": "raw",
   "id": "2b0a5fe6",
   "metadata": {},
   "source": [
    "8. Can you explain the various forms of supervised learning? Explain each one with an example application."
   ]
  },
  {
   "cell_type": "raw",
   "id": "a82055bc",
   "metadata": {},
   "source": [
    "In supervised machine learning we have two types classification and regression.\n",
    "In classification we are classifying given information belongs to which class.It is a whole value.\n",
    "example of some classification problems are clssifying reciving mail is spam or not.\n",
    "In Regression we have decimal value , regression predict continues values.\n",
    "examples: Forecasting sales, cash forecasting "
   ]
  },
  {
   "cell_type": "raw",
   "id": "4b8a326d",
   "metadata": {},
   "source": [
    "9. What is the difference between supervised and unsupervised learning? With a sample application in each region, explain the differences."
   ]
  },
  {
   "cell_type": "raw",
   "id": "b41fbe52",
   "metadata": {},
   "source": [
    "In supervised learning we have independent and dependent features, where as in unsupervised machine learning we have only independent features it dont have dependent feature.\n",
    "In supervised learning is predict out comes based target variable.In unsupervised learning it group the data based on similarities.\n",
    "Example of supervised learning is forcasting, predicting wethar\n",
    "Example of unsupervised machine learning is e-commerce sites"
   ]
  },
  {
   "cell_type": "raw",
   "id": "1f654e95",
   "metadata": {},
   "source": [
    "10. Describe the machine learning process in depth."
   ]
  },
  {
   "cell_type": "raw",
   "id": "6ab95efa",
   "metadata": {},
   "source": [
    "Machine learning is a tool that allows systems the ability to learn and imporve automatically based upon experiance.\n",
    "Machine learning is development of computer programs that can access data and through a series of algorithms are used to learn for itself what action should be taken based on that data.\n",
    "Machine learning uses programed algoriThms that receive and analyse input data to predict output values within acceptable range.As new data is fed to these algorithms , They learning optimise their operations to improve performances, developing intelligence over time.\n",
    "Machine learning involves showing a large volume of datato a machine so that it can learn and make predictions find pattern or classifying data\n"
   ]
  },
  {
   "cell_type": "raw",
   "id": "64c46486",
   "metadata": {},
   "source": [
    "a. Make brief notes on any two of the following:\n",
    "\n",
    "MATLAB is one of the most widely used programming languages.\n",
    "\n",
    "ii. Deep learning applications in healthcare\n",
    "\n",
    "iii. Study of the market basket\n",
    "\n",
    "iv. Linear regression (simple)\n",
    "\n"
   ]
  },
  {
   "cell_type": "raw",
   "id": "ea335866",
   "metadata": {},
   "source": [
    "DEEP LEARNING APPLICATION IN HEALTH CARE:\n",
    "    Drug development,Imaging in medicine,insurance swindle,Responding to patiants queries,studying mental health.personalized medical treatments..etc\n",
    "\n",
    "LINEAR REGRESSION(SIMPLE):\n",
    "   linear regression algorithm is used to find a best fit line for a given dataset, For simple linear regression the best fit line is average of data.\n",
    "   Linear regressor find a best fit line in such a way that the summation of error with respect to line is minimum i.e approximately equal to zero"
   ]
  },
  {
   "cell_type": "raw",
   "id": "7529d4ba",
   "metadata": {},
   "source": [
    "11. Make a comparison between:-\n",
    "\n",
    "1. Generalization and abstraction\n",
    "\n",
    "2. Learning that is guided and unsupervised\n",
    "\n",
    "3. Regression and classification\n"
   ]
  },
  {
   "cell_type": "raw",
   "id": "0172ffca",
   "metadata": {},
   "source": [
    "1. Generalization and abstraction:\n",
    "    Abstraction means in ML is constructing new terms from existing ones,A mapping between formalisms that reduces the computational complexity of the task at stake.\n",
    "    Generalization refers to your models ability to adopt properly to new, previously unseen data , drawn from the saame distribution as the one used to create model.\n",
    "how well is a trained model to classify or forecast on unseen data.\n",
    "\n",
    "\n",
    "2. Learning that is guided and unsupervised\n",
    "   learning that is guided ,It is a process in which learners initiate learning guided by more experiencesd patterns.It issimilar to supervised machine learning where it is trying to find out relations or patterns between independent and dependent variables.\n",
    "   In unsupervised machine learning is training approach or grouping mechanism , It tyy to group similar kind of data.\n",
    "   \n",
    "   \n",
    "3. Regression and classification\n",
    "In classification we are classifying given information belongs to which class.It is a whole value.\n",
    "example of some classification problems are clssifying reciving mail is spam or not.\n",
    "In Regression we have decimal value , regression predict continues values.\n",
    "examples: Forecasting sales, cash forecasting \n",
    "    "
   ]
  }
 ],
 "metadata": {
  "kernelspec": {
   "display_name": "Python 3 (ipykernel)",
   "language": "python",
   "name": "python3"
  },
  "language_info": {
   "codemirror_mode": {
    "name": "ipython",
    "version": 3
   },
   "file_extension": ".py",
   "mimetype": "text/x-python",
   "name": "python",
   "nbconvert_exporter": "python",
   "pygments_lexer": "ipython3",
   "version": "3.9.7"
  }
 },
 "nbformat": 4,
 "nbformat_minor": 5
}

{
 "cells": [
  {
   "cell_type": "raw",
   "id": "3619abf8",
   "metadata": {},
   "source": [
    "1. What are the key tasks involved in getting ready to work with machine learning modeling?"
   ]
  },
  {
   "cell_type": "raw",
   "id": "4506e5de",
   "metadata": {},
   "source": [
    "Key tasks involved in getting ready to work with machine learning modeling are\n",
    "collecting data and Preparing data\n",
    "1.Data ingistion.\n",
    "2.Exploratory data analysis.\n",
    "3.Preprocessing data .\n",
    "4.Model building.\n",
    "5.evaluating model.\n",
    "6.Parameter tuning. \n",
    "7.Making predictions."
   ]
  },
  {
   "cell_type": "raw",
   "id": "5e34f03f",
   "metadata": {},
   "source": [
    "2. What are the different forms of data used in machine learning? Give a specific example for each of them."
   ]
  },
  {
   "cell_type": "raw",
   "id": "35dcaba4",
   "metadata": {},
   "source": [
    "Data can come in many forms, but machine learning models rely on poor primary data types\n",
    "1.Numerical data \n",
    "2.Categorical data\n",
    "3.Time series data\n",
    "4.Text data\n",
    "\n",
    "Quantitative data(NUMERICAL DATA) is any form of measurable data such as weight , height ,rainfall ..etc\n",
    "Qualitative data(CATEGORICAL DATA) is stored by defining characteristics , This can include gender,home town ..etc\n",
    "Time series data consists of data points that are indexed at specific points in time.This data is collected by constant intervals.\n",
    "The time service data has established starting and ending points .\n",
    "Text data simply words ,sentence or paragraph that can bprovide some level insightto your machine learning models.\n",
    "\n",
    "\n"
   ]
  },
  {
   "cell_type": "raw",
   "id": "b70927e9",
   "metadata": {},
   "source": [
    "3. Distinguish:\n",
    "\n",
    "1. Numeric vs. categorical attributes\n",
    "\n",
    "2. Feature selection vs. dimensionality reduction\n"
   ]
  },
  {
   "cell_type": "raw",
   "id": "2118db21",
   "metadata": {},
   "source": [
    "1.Numeric vs. categorical attributes:\n",
    "      \n",
    "      \n",
    "      Quantitative data(NUMERICAL DATA) is any form of measurable data such as weight , height ,rainfall ..etc\n",
    "Qualitative data(CATEGORICAL DATA) is stored by defining characteristics , This can include gender,home town ..etc\n",
    "\n",
    "Quantative data again divided into two types 1.Continuos data 2.Discrete data ,\n",
    "The data which has continuous in nature is called as continuous data  example : height , weight etc\n",
    "The data which has discrete in nature is called as discrete data Example : number of students in a class , number of days in a week etc\n",
    "\n",
    "Qualitqative data also divided into two types 1.Nominal data   20.Ordinal data \n",
    "The data which follows ordering of data is called as Ordinal data, example  : rating of service\n",
    "The data which does not follow order is called as the nominal data. Example: gender, country\n",
    "\n",
    "2.Feature selection vs. dimensionality reduction:\n",
    "      \n",
    "       \n",
    "       While both methods are used for reducing the number of features in a dataset, There is an important differecence is , feature selection is simply selecting and excluding features without changing them , where as dimensionality reductio transforms feature into a lower dimension.\n",
    "       \n",
    "    FEATURE SELECTION: \n",
    "    1.Removing features with missing values.\n",
    "    2.Removing features with low variance.\n",
    "    3.Removing highly correlated features.\n",
    "    4.Univariate feature selection, Recursive feature elimination\n",
    "    \n",
    "    DIMENSIONALITY REDUCTION:\n",
    "    some examples of dimensionality reduction tech niques are PCA, T-SNE\n",
    "     "
   ]
  },
  {
   "cell_type": "raw",
   "id": "2ea68f9e",
   "metadata": {},
   "source": [
    "4. Make quick notes on any two of the following:\n",
    "1. The histogram\n",
    "\n",
    "2. Use a scatter plot\n",
    "\n",
    "3.PCA (Personal Computer Aid)\n",
    "\n"
   ]
  },
  {
   "cell_type": "raw",
   "id": "ee896295",
   "metadata": {},
   "source": [
    "HISTOGRAM: \n",
    "Histograms are commonly used in statistics to demonstrate how many of certain type of variable occur with  a specific range.\n",
    "   example: number of peoples are between the ages of 6-10,11-14,15-19...\n",
    "   \n",
    " The histogram is a bar graph like representation of data that buckets a range of classes into columns along the horizental axis. The vertical y-axis represents the number of count or percentage of ocuurance in the data for each column.\n",
    " \n",
    " \n",
    "SCATTER PLOT:\n",
    "    Scatter plots are used to plot data points on a horizental and a vertical axis in the attempt to show how much one variable is affected by another.\n",
    "    A sacatter plot uses dots to represent values for two different numeric variables.The postion of each dot the horizental and vertical axis indicates values for an individual data point.\n",
    "    Scatter plot are used to observe relation ship between variables."
   ]
  },
  {
   "cell_type": "raw",
   "id": "3879dda8",
   "metadata": {},
   "source": [
    "5. Why is it necessary to investigate data? Is there a discrepancy in how qualitative and quantitative data are explored?"
   ]
  },
  {
   "cell_type": "raw",
   "id": "d4898407",
   "metadata": {},
   "source": [
    "This helps to build accurate models and check assumptions required for fitting models.\n",
    "Create meaningful data visualizations,predict fiture trends from the data.\n",
    "To highlet traits of single variable and reveal patterns and relation ship between variables.\n",
    "Quantitative studies rely on numerical or measurable data , Qualitative studies rely on document that illustrate in detail how people think or respond with society."
   ]
  },
  {
   "cell_type": "raw",
   "id": "08f4d8d2",
   "metadata": {},
   "source": [
    "6. What are the various histogram shapes? What exactly are ‘bins'?"
   ]
  },
  {
   "cell_type": "raw",
   "id": "b5188a56",
   "metadata": {},
   "source": [
    "A histogram is a graphical representation of a grouped frequency distribution with continuous classes .It is a two dimensional figure.\n",
    "Different types of histograms are \n",
    "1.Uniform histogram\n",
    "2.Symmetric histogram\n",
    "3.Bimodal histogram\n",
    "4.Probability histogram\n",
    "\n",
    "UNIFORM HISTOGRAM:\n",
    "    A uniform distribution reveals that the number of classes is too small and each class has some number of elements.\n",
    "SYMMETRIC HISTOGRAM: \n",
    "    Symmetric histogram is also called as bell shaped histiogram.\n",
    "    \n",
    "BIMODAL HISTOGRAM: \n",
    "     If a histogram has two peaks , it is said to be Bimodal. Bimodal occur when the data has observations on two different kinds of individually or combined groups, If the center of two seperate histograms are far enough.\n",
    "     \n",
    "PROBABILITY HISTOGRAM: \n",
    "    A probability histogram shows a pictorial representation of a discrete probability distribution.\n",
    "    \n",
    "    \n",
    "BINS:\n",
    "   It consists of a rectangle centered on every value of x, and the area of each rectangle is propotional to the probability of corresponding value.\n",
    "   If we have a datset then we divide it into n number of dataset , with eqaul length is calles as bins."
   ]
  },
  {
   "cell_type": "raw",
   "id": "aee529e1",
   "metadata": {},
   "source": [
    "7. How do we deal with data outliers?"
   ]
  },
  {
   "cell_type": "raw",
   "id": "347ad390",
   "metadata": {},
   "source": [
    "If we have outlier in our data then we can do dropping the data or replacing with median values of that columns."
   ]
  },
  {
   "cell_type": "raw",
   "id": "4cb79c88",
   "metadata": {},
   "source": [
    "8. What are the various central inclination measures? Why does mean vary too much from median in certain data sets?"
   ]
  },
  {
   "cell_type": "raw",
   "id": "36ff1126",
   "metadata": {},
   "source": [
    "There are three main measures of centeral tendency, They are the mean, the mode and the median.\n",
    "Each of these measures describes a different indication of the typical or central value in the distribution..\n",
    "\n",
    "   The mode is the most commonly occuring value in a distribution.\n",
    "   The median is the middle value in the distribution, When the values are arranged in asscending order or decssecnding order.\n",
    "   The mean is the sum of the value of each observation in the dataset divided by the number of observations.This is also known as Aeithematic average."
   ]
  },
  {
   "cell_type": "raw",
   "id": "1a108080",
   "metadata": {},
   "source": [
    "9. Describe how a scatter plot can be used to investigate bivariate relationships. Is it possible to find outliers using a scatter plot?"
   ]
  },
  {
   "cell_type": "raw",
   "id": "570026ce",
   "metadata": {},
   "source": [
    "       Scatter plots are an essential type of data visualization that shows relationships between variables.\n",
    "       The value of one variable appear on the horizental axis and the value of another variable appear on vertical axis.\n",
    "       Each individual in data appears as a point on the graph.\n",
    "       The overall pattern of scatterplot can be described by the direction form and strength of the relation ship.\n",
    "       THe important kind of departure is an outlier , an individual value that falls outside the overall pattern of relation ship.\n",
    "       Two variables have positive associatio , when above average values of one tend to accompony above average values of other and when below average values also tend to occur together..\n",
    "       Two variables have negative association when above average values of tend to company below average values of other."
   ]
  },
  {
   "cell_type": "raw",
   "id": "d970fc17",
   "metadata": {},
   "source": [
    "10. Describe how cross-tabs can be used to figure out how two variables are related."
   ]
  },
  {
   "cell_type": "raw",
   "id": "3974524b",
   "metadata": {},
   "source": [
    "The cells of the table contain the number of times that a particular combination of categorical occured.\n",
    "The edges of the table typiclly contain the total number of observations for that category.\n",
    "The dimensions of the cross tab refer to number of rows and columns in the table dimensions R+C\n",
    "\n",
    "'R'   is umber of categories for the row variable.\n",
    "'C' is number of categories for column variable.\n",
    "\n",
    "\n",
    "EXAMPLE:\n",
    "   class rank       GENDER \n",
    "                  male   female\n",
    "   senior           4      7\n",
    "   junior           5      2\n",
    "   fresher          9      1"
   ]
  },
  {
   "cell_type": "code",
   "execution_count": null,
   "id": "9fc7f48c",
   "metadata": {},
   "outputs": [],
   "source": []
  },
  {
   "cell_type": "code",
   "execution_count": null,
   "id": "7d363fd7",
   "metadata": {},
   "outputs": [],
   "source": []
  },
  {
   "cell_type": "raw",
   "id": "d258c48b",
   "metadata": {},
   "source": []
  }
 ],
 "metadata": {
  "kernelspec": {
   "display_name": "Python 3 (ipykernel)",
   "language": "python",
   "name": "python3"
  },
  "language_info": {
   "codemirror_mode": {
    "name": "ipython",
    "version": 3
   },
   "file_extension": ".py",
   "mimetype": "text/x-python",
   "name": "python",
   "nbconvert_exporter": "python",
   "pygments_lexer": "ipython3",
   "version": "3.9.7"
  }
 },
 "nbformat": 4,
 "nbformat_minor": 5
}

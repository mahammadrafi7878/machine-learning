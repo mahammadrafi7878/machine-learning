{
 "cells": [
  {
   "cell_type": "raw",
   "id": "63cec456",
   "metadata": {},
   "source": [
    "1. What is your definition of clustering? What are a few clustering algorithms you might think of?"
   ]
  },
  {
   "cell_type": "raw",
   "id": "80c99fea",
   "metadata": {},
   "source": [
    "Clustering is an unsupervised machine learning task , you might also this reffered to as cluster analysis because of the way this method works.Using a clustering algorithm means you are going to give the algorithm a lot of input data with no labels and let it find any grouping in the data it call those groupings are called as clusters.\n",
    "A cluster is a group of datapoints that are similar to each other based on their relation to surrounding datapoints.\n",
    "some clustering algorithms are DBSCAN(density based spatial clustering application with noise),K-means ,K-meands++, Hierarchical clustering"
   ]
  },
  {
   "cell_type": "raw",
   "id": "a00107b5",
   "metadata": {},
   "source": [
    "2. What are some of the most popular clustering algorithm applications?"
   ]
  },
  {
   "cell_type": "raw",
   "id": "05963e16",
   "metadata": {},
   "source": [
    "1.Clustering analysis is broadly used in many applications such as market reasearch,pattern recognition, adat analysis and image processing.\n",
    "2.Clustering can also help marketers discussion distinct groups in their customer base and they can characterize their customer groups based on purchasing behaviour.\n",
    "3.In the field of biology , It can be used to derive planet and animal taxonomies , categorizes with similar functionalities and gain insight into structure inherent to population.\n",
    "4.clustering also helps in identifications of areasss of similar land use in earth observation database.\n",
    "5.As a datamining, cluster analysis serves as a tool to gain insight into the distribution of data to observe charactrstics of each cluster.\n",
    "6.clusters also used in outlier detection applicationa such as detection of credit card fraud."
   ]
  },
  {
   "cell_type": "raw",
   "id": "d26a3bd7",
   "metadata": {},
   "source": [
    "3. When using K-Means, describe two strategies for selecting the appropriate number of clusters."
   ]
  },
  {
   "cell_type": "raw",
   "id": "2c85fadf",
   "metadata": {},
   "source": [
    "K-means clustering is a type of unsupervised learning which is used when you have unlabelled data.\n",
    "The goal of the algorithm is to find groups in the data with the number of groups represented by variable k.\n",
    "K-Means algorithm is distance based algorithm , when we only independent features then we can use k-means algorithm it groups the dataset based on their similarities between points using Euclidean distance base appraoch.\n",
    "Ther are two strategies for selecting the appropriate number of clusters they are \n",
    "1.ELBOW METHOD \n",
    "2.SILHOUETTE SCORE"
   ]
  },
  {
   "cell_type": "raw",
   "id": "f01a7a4c",
   "metadata": {},
   "source": [
    "4. What is back propagation and how does it work? Why would you do it, and how would you do it?"
   ]
  },
  {
   "cell_type": "raw",
   "id": "ad056a1d",
   "metadata": {},
   "source": [
    "Back propagation is a algorithm probably the most fundemental building block inneural network.\n",
    "The algorithm is used to effectively train a neural network through a method called cahin rule.\n",
    "It repeatedly adjusts the weights of the connections in the network so as to minimize a measure of difference between the actual output vector of the net and the desired output vector.\n",
    "This is ability to create useful new features distinguishes back propagation from from earlier simpler methods.\n",
    "It is aims to minimize the cost function by adjusting network weights and biases.\n",
    "It all done where the error occur more and to minimize its error  so we called it a sback propgation.  using gradients we can do back propagation."
   ]
  },
  {
   "cell_type": "raw",
   "id": "0c776a9c",
   "metadata": {},
   "source": [
    "5. Provide two examples of clustering algorithms that can handle large datasets. And two that look for high-density areas?"
   ]
  },
  {
   "cell_type": "raw",
   "id": "331f12b2",
   "metadata": {},
   "source": [
    "When we have large dataset we acn use CLRA(clustering large applications ) clustering algorithm.\n",
    "it is a sample based method that randomly selects a small subset of datapoints instead of considering the whole observations, which means it work well for large datasets.\n",
    "The extension of this clustering CLRAN(clustering large applications based on randomized search) is also used whgen we have large number of datasets.\n",
    "LDA(latent diricelt allocation) clustering works well on large dataset.it is work based  on hidden dirichelt distribution allocation."
   ]
  },
  {
   "cell_type": "raw",
   "id": "a4187641",
   "metadata": {},
   "source": [
    "6. Can you think of a scenario in which constructive learning will be advantageous? How can you go about putting it into action?"
   ]
  },
  {
   "cell_type": "raw",
   "id": "77e74440",
   "metadata": {},
   "source": [
    "Constructive machine learning describes a class of related machine learning problems. wher the ultimate goal of learning is not to find a good model of data but instead to find on or more particular instance of domain which are likely to exihibit  desired properties.\n",
    "While traditional approches choose these domain instances from a given set of unlabelleddomain instances , Constructive machine learning is typically iterative and seperates on infinite or exponentially large instance space.\n",
    "Learning constitues from Construction(supervised learning),Reconstruction(unsupervised learning) and Deconstruction(select or discard a model) "
   ]
  },
  {
   "cell_type": "raw",
   "id": "59197ab1",
   "metadata": {},
   "source": [
    " 7. How do you tell the difference between anomaly and novelty detection?"
   ]
  },
  {
   "cell_type": "raw",
   "id": "c81af406",
   "metadata": {},
   "source": [
    "Novetly detection is when you have a new data and you want to know whether or not it is in distribution.When you want to know if it looks like data you are trained.\n",
    "Anomaly detection is when you test your data to see if it is different than what you trined a model.Anomaly detection is also knowed as outlier detection.\n",
    "Outlier detection and novetly detection are both are used for anomaly detection , Where one is interested in deyecting abnormal or unusval observation.\n",
    "Novetly detection as semisupervised anomaly detection.\n",
    "Outlier detection is unsupervised anomaly detection."
   ]
  },
  {
   "cell_type": "raw",
   "id": "44f6652f",
   "metadata": {},
   "source": [
    "8. What is a Gaussian mixture, and how does it work? What are some of the things you can do about it?"
   ]
  },
  {
   "cell_type": "raw",
   "id": "fb4eed6c",
   "metadata": {},
   "source": [
    "A guassian distribution is a bivariate normal distribution constructed using two random variables having a normal distribution each parameterized by its mean and standard deviation.\n",
    "The guassian mixture model is a semiparameterized model (finite number of parameters that increasing with adata) used as  soft clustering  algorithm , where each cluster corresponds to generate model that aims to discover the parameters of probability distribution for a given cluster.\n",
    "The process of a learning is to fit a guassian model to the data points .The guassian mixture model qassumes that the clusters are distributed in normal distribution in n-dimensional space."
   ]
  },
  {
   "cell_type": "raw",
   "id": "2528e3cf",
   "metadata": {},
   "source": [
    "9. When using a Gaussian mixture model, can you name two techniques for determining the correct number of clusters?"
   ]
  },
  {
   "cell_type": "raw",
   "id": "0030bd2f",
   "metadata": {},
   "source": [
    "The guassian mixture model is a semiparameterized model (finite number of parameters that increasing with adata) used as  soft clustering  algorithm , where each cluster corresponds to generate model that aims to discover the parameters of probability distribution for a given cluster.\n",
    "The process of a learning is to fit a guassian model to the data points .The guassian mixture model qassumes that the clusters are distributed in normal distribution in n-dimensional space.\n",
    "\n",
    "There are two techniques for determine correct number of clusters they are ELBOW method and SILHOUETTE SCORE method"
   ]
  }
 ],
 "metadata": {
  "kernelspec": {
   "display_name": "Python 3 (ipykernel)",
   "language": "python",
   "name": "python3"
  },
  "language_info": {
   "codemirror_mode": {
    "name": "ipython",
    "version": 3
   },
   "file_extension": ".py",
   "mimetype": "text/x-python",
   "name": "python",
   "nbconvert_exporter": "python",
   "pygments_lexer": "ipython3",
   "version": "3.9.7"
  }
 },
 "nbformat": 4,
 "nbformat_minor": 5
}

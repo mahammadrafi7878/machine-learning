{
 "cells": [
  {
   "cell_type": "raw",
   "id": "440ea230",
   "metadata": {},
   "source": [
    "1. What does one mean by the term \"machine learning\"?"
   ]
  },
  {
   "cell_type": "raw",
   "id": "71fd94cd",
   "metadata": {},
   "source": [
    "Machine learning is subset of Ai , It provides stats tools to analyze,visualize, performance, prediction and other task with the help of data.\n",
    "A way where a machine is tring to find a relationship or patterns of the given dataset, Then we can term as machine learning.\n",
    "Machine learning is a subfield of AI, Which comes with developing computational theories of learning and building learning machines"
   ]
  },
  {
   "cell_type": "raw",
   "id": "5717d465",
   "metadata": {},
   "source": [
    "2.Can you think of 4 distinct types of issues where it shines?"
   ]
  },
  {
   "cell_type": "raw",
   "id": "0189edc2",
   "metadata": {},
   "source": [
    "Machine learning is useful in most of situations , some issues where machine learning is shines\n",
    "1.PRODUCT RECOMMENDATION:\n",
    "       Product recommendation is one of themost popular and known application of machine learning. example :ecommerce\n",
    "2.IMAGE RECOGNITION:\n",
    "      Image recognition , Which is an approch for cataloging and detecting a feature or an object in the digital image\n",
    "3.SOCIAL MEDIA: \n",
    "      Social media plotforms use machine learning algorithms and approches to create some attractive and excellent features\n",
    "4.SPAM FILTERS:\n",
    "     Spam filters are use an algorithm to identify and more incoming junk email to your spam filters.\n",
    "     \n",
    "machine learning also use in sentiment analysis"
   ]
  },
  {
   "cell_type": "raw",
   "id": "6aff971f",
   "metadata": {},
   "source": [
    "3.What is a labeled training set, and how does it work?"
   ]
  },
  {
   "cell_type": "raw",
   "id": "1c78b7c5",
   "metadata": {},
   "source": [
    "Labled traing data is used in supervised machine learning.\n",
    "It enables ML models to learn the characteristics associated with specific labels,Which can be used to classify newer data.\n",
    "A labled traing dataset is nothing but a dataset having target variable."
   ]
  },
  {
   "cell_type": "raw",
   "id": "a5509369",
   "metadata": {},
   "source": [
    "4.What are the two most important tasks that are supervised?"
   ]
  },
  {
   "cell_type": "raw",
   "id": "1f0463fa",
   "metadata": {},
   "source": [
    "Supervised machine learning have two most tasks that are classification and regression."
   ]
  },
  {
   "cell_type": "raw",
   "id": "252d8f39",
   "metadata": {},
   "source": [
    "5.Can you think of four examples of unsupervised tasks?"
   ]
  },
  {
   "cell_type": "raw",
   "id": "20d5b327",
   "metadata": {},
   "source": [
    "Unsupervised tasks include clusterin g,visualization,dimensionality reduction and associate rule learning."
   ]
  },
  {
   "cell_type": "raw",
   "id": "dde53888",
   "metadata": {},
   "source": [
    "6.State the machine learning model that would be best to make a robot walk through various unfamiliar terrains?"
   ]
  },
  {
   "cell_type": "raw",
   "id": "33cfe5fc",
   "metadata": {},
   "source": [
    "The best machine learning algorithm to allow a robot to walk in unknown terrian is Reinforced Learning, Where the robot can learn from response of the terrian to optimize itself."
   ]
  },
  {
   "cell_type": "raw",
   "id": "83d4ff56",
   "metadata": {},
   "source": [
    "7.Which algorithm will you use to divide your customers into different groups?"
   ]
  },
  {
   "cell_type": "raw",
   "id": "8bf99343",
   "metadata": {},
   "source": [
    "We can use two algorithms for dividing customers into different groups.\n",
    "In the given dataset if dataset have target label then we can use classification algorithm.\n",
    "If we dont have dependent variable and have only independent variable then we can use clustering, It is most effective algorithm."
   ]
  },
  {
   "cell_type": "raw",
   "id": "54180aff",
   "metadata": {},
   "source": [
    "8.Will you consider the problem of spam detection to be a supervised or unsupervised learning problem?"
   ]
  },
  {
   "cell_type": "raw",
   "id": "6d616415",
   "metadata": {},
   "source": [
    "Considered the problem of spam detection , Here we are classifying the receiving email is spam or not spam.\n",
    "This is a kind of problrm we use classification algorithm.In supervised machine learnig we have classification algorithm."
   ]
  },
  {
   "cell_type": "raw",
   "id": "c1d83063",
   "metadata": {},
   "source": [
    "9.What is the concept of an online learning system?"
   ]
  },
  {
   "cell_type": "raw",
   "id": "903c6a22",
   "metadata": {},
   "source": [
    "In computer science, online machine learning is a method of machine learning, In which the data becomes available in a sequential order and is used to update the best predictor for the future data at each step, as opposed to batch learning  technique which generate the best predictor by learning on the entire training dataset at once.\n",
    "\n",
    "Online learning is a common technique used in areas of ML, where it is computationally infesable to train over the entire dataset, requiring the need of out of core dynamically adapt new patterns in the data, When data itself generates as a function."
   ]
  },
  {
   "cell_type": "raw",
   "id": "a95bc0e0",
   "metadata": {},
   "source": [
    "10.What is out-of-core learning, and how does it differ from core learning?"
   ]
  },
  {
   "cell_type": "raw",
   "id": "f86cec71",
   "metadata": {},
   "source": [
    "Out of core learning is a technique used to learn from data that cannot fit in a computers main memory.\n",
    "It is a type of algorithm that is desgined to process data that is too large to fit into a computers main memory at one time.\n",
    "When data must be stored in a medium like a large spining hard drive or an external computer network, It becomes very expensive to randomly seeks to an arbitary section of data or to process the same data multiple time.\n",
    "In such cases , Out of core algorithm would try to access all the relavant data in one sequence."
   ]
  },
  {
   "cell_type": "raw",
   "id": "c4bc4bd5",
   "metadata": {},
   "source": [
    "11.What kind of learning algorithm makes predictions using a similarity measure?"
   ]
  },
  {
   "cell_type": "raw",
   "id": "a9d1bf98",
   "metadata": {},
   "source": [
    "KNN algorithm makes predictions using a similarity measure."
   ]
  },
  {
   "cell_type": "raw",
   "id": "c62c8917",
   "metadata": {},
   "source": [
    "12.What's the difference between a model parameter and a hyperparameter in a learning algorithm?"
   ]
  },
  {
   "cell_type": "raw",
   "id": "26471892",
   "metadata": {},
   "source": [
    "The performance of the model is determined by a varities of parameters, A model regards as good if it acheives high accuracy.In prediction test data and can generalize effectively to unknown data.\n",
    "\n",
    "The machine learning model parameters determine how input data is transformed into desired output.\n",
    "Where as the hyperparameters control the modelshape, almost standard learning methods contain hyper parameter attributes that must be initialized before the model can be rained."
   ]
  },
  {
   "cell_type": "raw",
   "id": "1cdb474e",
   "metadata": {},
   "source": [
    "13.What are the criteria that model-based learning algorithms look for? What is the most popular method they use to achieve success? What method do they use to make predictions?"
   ]
  },
  {
   "cell_type": "raw",
   "id": "457c4aa5",
   "metadata": {},
   "source": [
    "Model based learning algorithms search for the optimum value of parameters in a modelThat will give the best results for the new instances.\n",
    "We are often use a cost function or similar to determine what the parameters values has to be inorder to minimize the function.\n",
    "The model makes prediction by using the value of new instances and parameters in a function."
   ]
  },
  {
   "cell_type": "raw",
   "id": "c00a0024",
   "metadata": {},
   "source": [
    "14.Can you name four of the most important Machine Learning challenges?"
   ]
  },
  {
   "cell_type": "raw",
   "id": "1ed1078c",
   "metadata": {},
   "source": [
    "Four more challenges in machine learning include \n",
    "1.Overfitting the data (using a model too comlicated), \n",
    "2.Underfitting the data(using a simple model),\n",
    "3.Lacking in data,\n",
    "4.Non representive data."
   ]
  },
  {
   "cell_type": "raw",
   "id": "aed97961",
   "metadata": {},
   "source": [
    "15.What happens if the model performs well on the training data but fails to generalize the results to new situations? Can you think of three different options?"
   ]
  },
  {
   "cell_type": "raw",
   "id": "71818ea7",
   "metadata": {},
   "source": [
    "If the model performs well on the training data but fails to generalize the results to new situations , we can say that it is \"Overfitted model\".\n",
    "In Overfitted model we get low bias and high variance.\n",
    "\n",
    "1.Implement a simpler model\n",
    "2.Eliminate outliers or noise.\n",
    "3.Getting more data  \n",
    "These three methods are used to rectify overfitting problems."
   ]
  },
  {
   "cell_type": "raw",
   "id": "5091b739",
   "metadata": {},
   "source": [
    "16.What exactly is a test set, and why would you need one?"
   ]
  },
  {
   "cell_type": "raw",
   "id": "0f1e5fb3",
   "metadata": {},
   "source": [
    "For the given dataset we divide it into two parts , One for training a model and another one for test the model .\n",
    "Using a train dataset we train a model.\n",
    "The test datset is used to test the trained model,to know how much it is generalize?"
   ]
  },
  {
   "cell_type": "raw",
   "id": "d8113308",
   "metadata": {},
   "source": [
    "17.What is a validation set's purpose?"
   ]
  },
  {
   "cell_type": "raw",
   "id": "7500003e",
   "metadata": {},
   "source": [
    "In train dataset we again divided ti into two parts one for train model and another dataset is called as validation datset, It is used to find the best values for Hyperparameter tuning."
   ]
  },
  {
   "cell_type": "raw",
   "id": "3dbb2f72",
   "metadata": {},
   "source": [
    "18.What precisely is the train-dev kit, when will you need it, how do you put it to use?"
   ]
  },
  {
   "cell_type": "raw",
   "id": "b9a41e92",
   "metadata": {},
   "source": [
    "The goal of dev_set is to rank the models in term of their accuracy and helps us to decide which model to proceed further.\n",
    "With using Dev set we will rank all our models in terms of their accuracy and pick the best performing model,  i.e dev_set ranks models similar to search engine like google rank pages then pick the top model."
   ]
  },
  {
   "cell_type": "raw",
   "id": "27e10c9c",
   "metadata": {},
   "source": [
    "19.What could go wrong if you use the test set to tune hyperparameters?"
   ]
  },
  {
   "cell_type": "raw",
   "id": "817a213a",
   "metadata": {},
   "source": [
    "If yoy tune hyper parametrers using the test sets , Then it may perform well on the out of sample data because the model is tuned just for specific task"
   ]
  }
 ],
 "metadata": {
  "kernelspec": {
   "display_name": "Python 3 (ipykernel)",
   "language": "python",
   "name": "python3"
  },
  "language_info": {
   "codemirror_mode": {
    "name": "ipython",
    "version": 3
   },
   "file_extension": ".py",
   "mimetype": "text/x-python",
   "name": "python",
   "nbconvert_exporter": "python",
   "pygments_lexer": "ipython3",
   "version": "3.9.7"
  }
 },
 "nbformat": 4,
 "nbformat_minor": 5
}

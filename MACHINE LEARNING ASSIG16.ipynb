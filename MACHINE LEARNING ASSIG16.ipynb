{
 "cells": [
  {
   "cell_type": "raw",
   "id": "b2ad675a",
   "metadata": {},
   "source": [
    "1. In a linear equation, what is the difference between a dependent variable and an independent variable?"
   ]
  },
  {
   "cell_type": "raw",
   "id": "caf3545a",
   "metadata": {},
   "source": [
    "A variable in mathematics is defined as the alphebetic character that expresses a numerical value or number.\n",
    "In algebraic equation , a variable is used to represent an unknown quantity.\n",
    "\n",
    "The dependent variable is characterized as the variable whose quality depends on the estimation of another variable.\n",
    "An independent variable, describes a variable whose value are independent of changes.\n",
    "\n",
    "Let's take  x and Y are two variables in an algebraic equation, Every value of X is linked with another value of Y , Then Y value is said to be a function of X value known as independent variable, and Y value is known as dependent bvariable.\n",
    "Y=aX+b"
   ]
  },
  {
   "cell_type": "raw",
   "id": "eade27f6",
   "metadata": {},
   "source": [
    "2. What is the concept of simple linear regression? Give a specific example."
   ]
  },
  {
   "cell_type": "raw",
   "id": "f8ec3935",
   "metadata": {},
   "source": [
    "simple linear regression is used to estimate the relationship between two quantitative variable.You can use simple linear regression when you want to know,\n",
    "1.How strong the relationships between two variables.\n",
    "example:\n",
    "the relationship between rainfall and soil erosin\n",
    "\n",
    "2.The value of dependent variable at a certain value of independent variable.\n",
    "example:\n",
    "the relationship between rainfalland soil erosin\n",
    "\n",
    "\n",
    "SIMPLE LINEAR REGRESSION EXAMPLE: \n",
    "  You are a social resarcher mnisted in the relationship between income and happinesss you survey 500 people whose incomes ranges from 15k to 75k and ask them to rank thier happiness on a scale from 1 to 10.\n",
    "  Here salary  is independent variable and happinesss is dependent variable  are both quantitative , so you can do a regression analysis to see if there is linear relationship between them."
   ]
  },
  {
   "cell_type": "raw",
   "id": "3c1ba7d9",
   "metadata": {},
   "source": [
    "3. In a linear regression, define the slope."
   ]
  },
  {
   "cell_type": "raw",
   "id": "4306865d",
   "metadata": {},
   "source": [
    "The slope indicates stepness of a line and intercept represents  a point where it is intercept axis.\n",
    "In summary is y=mx+b , Then 'm' is the slope and 'b' is the intercept.\n",
    "Often linear equation write in standard form mx+b=y.\n",
    "\n",
    "m=(y2-y1)/(x2-x1)\n",
    "\n",
    "The slope of a regression line represents the rate of change in 'y'as 'x' changes , because 'y' is dependent on x, the slope describes the predicted value s of given x.\n",
    "When using ordinary least squares method one of the most common linear regression slope is found by calculating, as the covariance of x and y is divided by the sum of squares of x"
   ]
  },
  {
   "cell_type": "raw",
   "id": "1b36c8a1",
   "metadata": {},
   "source": [
    "4. Determine the graph's slope, where the lower point on the line is represented as (3, 2) and the higher point is represented as (2, 2)."
   ]
  },
  {
   "cell_type": "raw",
   "id": "3f216b8e",
   "metadata": {},
   "source": [
    "Given points lower ponit (x1,y1)=(3,2)\n",
    "             Higher point (x2,y2)=(2,2)\n",
    "    In graph's slope equation says that the slope of a line is found by determining the amount of rise (y2-y1) divided by amount of run (x2-x1) .\n",
    "m=rise/run=(y2-y1)/(x2-x1)\n",
    "\n",
    "from given points  m= (2-2)/(2-3)  = 1/0=   0."
   ]
  },
  {
   "cell_type": "raw",
   "id": "008924ab",
   "metadata": {},
   "source": [
    "5. In linear regression, what are the conditions for a positive slope?"
   ]
  },
  {
   "cell_type": "raw",
   "id": "77838155",
   "metadata": {},
   "source": [
    "A positive slope means that two variables (x and y) are positively related , means that is when 'x' increases so does 'y' also increased and when 'x' decreases 'y' also decreases.\n",
    "Graphically a positive slope means that as a line on the graph moves from left to right the line rises."
   ]
  },
  {
   "cell_type": "raw",
   "id": "f1c63757",
   "metadata": {},
   "source": [
    "6. In linear regression, what are the conditions for a negative slope?"
   ]
  },
  {
   "cell_type": "raw",
   "id": "a092351a",
   "metadata": {},
   "source": [
    "A negative slope means that two variables(x and y) are negatively related , that is when 'x' increases 'y' decreases and when 'x' decreases 'y' increases .\n",
    "Graphocally a negative slope means that as the line on the line graph moves from left to right  the line falls."
   ]
  },
  {
   "cell_type": "raw",
   "id": "609bedec",
   "metadata": {},
   "source": [
    "7. What is multiple linear regression and how does it work?"
   ]
  },
  {
   "cell_type": "raw",
   "id": "9b8e4ba3",
   "metadata": {},
   "source": [
    "Multiple Linear Regression(MLR) are also known as simply as multiple regression , is a statistical technique that uses several explonatory variables to predict the outcome of response variable.\n",
    "Multiple linear regression is extension linear regression that uses just one explonatory variable.\n",
    "\n",
    "multiple Linear Regression is a statistical technique that can be used to analyze the relationship between a single independent variable and several dependent variables.\n",
    "The objective of multiple linear regression analysis is to use independent variables whose values are known to predict the value of the single dependent variable.\n",
    "Each predictor value is weighed, The weights denoting their relative contribution overall prediction.\n",
    "\n",
    "Y=a+b1x1+b2x2+b3x3+....bnxn\n",
    "\n",
    "Here 'Y' is independent variable\n",
    "     'x1,x2,x3,....xn are dependent variables.\n",
    "     'a,b1,b2,b3,...bn are weights \n",
    "  Regression analysis ensure maximal prediction of dependent variable from the set of independent variables."
   ]
  },
  {
   "cell_type": "raw",
   "id": "86992f93",
   "metadata": {},
   "source": [
    "8. In multiple linear regression, define the number of squares due to error."
   ]
  },
  {
   "cell_type": "raw",
   "id": "375c62f1",
   "metadata": {},
   "source": [
    "Sum of SquaresSum of Squares is a statistical tool that is used to identify the dispersion of data as well as how well the data can fit the model in regression analysis.\n",
    "The Sum of Squares is one of the most important outputs in regression analysis.\n",
    "\n",
    "Squares due to error is called as Residual sum of squares also known as the sum of squared error of prediction.\n",
    "The sum of squares essentially measures the variation of modelling errors , In other words , It depicts how the variation in the dpendent variable in a regression model.\n",
    "It cannt be explined by a model generally,a lower residual sum of squares indicates that the regression model can better explain the data while a higher residual sum of squares indicates that the model poorly explains data.\n",
    "\n",
    "The residual sum of squares can be found using formula given below\n",
    "\n",
    "  \n",
    "  SSE= sum(i=1 to n)(y-yhat)^2  \n",
    "\n",
    "where 'y' is the observed value \n",
    "      'y hat'is the predicted value\n",
    "\n",
    "Sum of squares error: SSE represents sum of squares error, also known as residual sum of squares. It is the difference between the observed value and the predicted value.\n"
   ]
  },
  {
   "cell_type": "raw",
   "id": "de2b5837",
   "metadata": {},
   "source": [
    "9. In multiple linear regression, define the number of squares due to regression."
   ]
  },
  {
   "cell_type": "raw",
   "id": "09c55cb7",
   "metadata": {},
   "source": [
    "Regression sum of squares also known as the sum of squares due to regression or explained sum of squares.\n",
    "The regression sum of squares describes how well a regressio n model represents model data.\n",
    "If higher regression sum of squares indicates that the model does not fit data well.\n",
    "The formula for calculating the Regression sum of squares is  \n",
    "   \n",
    "   SSR = sum(i=1 to n)(yhat-y bar)^2\n",
    "   \n",
    "   where ' y hat' the values estimated by regression line\n",
    "         ' y bar' the mean value of samples"
   ]
  },
  {
   "cell_type": "raw",
   "id": "d851ec04",
   "metadata": {},
   "source": [
    "10.In a regression equation, what is multicollinearity?"
   ]
  },
  {
   "cell_type": "raw",
   "id": "d0c9fa0d",
   "metadata": {},
   "source": [
    "Multicollinearity occurs when two or more independent variables are highly correlated with one another in regression model.\n",
    "This means that the independent variable can be predicted from another independent variable in regression model."
   ]
  },
  {
   "cell_type": "raw",
   "id": "2eab9a0b",
   "metadata": {},
   "source": [
    "11. What is heteroskedasticity, and what does it mean?"
   ]
  },
  {
   "cell_type": "raw",
   "id": "5b9d7a3e",
   "metadata": {},
   "source": [
    "Heteroskedasticity is a systematic increase or decrease in the variance of residuals over the range of independent variables.\n",
    "This is an issue because heteroskedasticity is an assumption in linear regression and all errrors should be of the same variance.\n",
    "heteroskedasticity happens when the standard deviations of predicted variable , maintained over different values independent variables or as related to prior time periods are non constants."
   ]
  },
  {
   "cell_type": "raw",
   "id": "8b456204",
   "metadata": {},
   "source": [
    "12. Describe the concept of ridge regression."
   ]
  },
  {
   "cell_type": "raw",
   "id": "d664acd3",
   "metadata": {},
   "source": [
    "Ridge regression is a method of estimating the coefficients of multiple regression models in scenarios where the independent variables are highly correlated .\n",
    "It has been used in many fields including chemistry ,econometrics and engineering.\n",
    "\n",
    "Ridge regression is a method used for the analysis multicollinearity in multiple regression data.\n",
    "it is not suitable when a dataset contains higher number of predictor variables than the number of observations."
   ]
  },
  {
   "cell_type": "raw",
   "id": "2a03ad95",
   "metadata": {},
   "source": [
    "13. Describe the concept of lasso regression."
   ]
  },
  {
   "cell_type": "raw",
   "id": "fd70a835",
   "metadata": {},
   "source": [
    "Lasso Regression analysis is a shrinkage and variable selection method for linear regression.\n",
    "The goal of lasso regression is to obtain the subset of predictors that minimizes prediction error for  a quantitative  response variable.\n",
    "Lasso Regression is a type of linear regression that uses  a Shrinkage .\n",
    "Shrinkage is where data values are shrunk towords a central point like mean the lasso procedure encouragessimple sparse model"
   ]
  },
  {
   "cell_type": "raw",
   "id": "afa18fed",
   "metadata": {},
   "source": [
    "14. What is polynomial regression and how does it work?"
   ]
  },
  {
   "cell_type": "raw",
   "id": "5bb89712",
   "metadata": {},
   "source": [
    "Polynomial regression is a form of regression analysis in which the relationship between the independent variable X and the dependent variable Y is modelled as an n'th degree polynomial in X.\n",
    "Polynomial regression fit a nonlinear relationship between the value of X and corresponding condition of Y, denoted as E(Y|x)\n",
    "Polynomial regression is one of the machine learning algorithm used for making prediction .Ploynomial regression is used when there is no linear correlation between the variables."
   ]
  },
  {
   "cell_type": "raw",
   "id": "7f7c5885",
   "metadata": {},
   "source": [
    "15. Describe the basis function."
   ]
  },
  {
   "cell_type": "raw",
   "id": "30b14191",
   "metadata": {},
   "source": [
    "the basis function  is an element of an particular basis for a function space.\n",
    "Every function in the function space can be represented as linear combination of basis function, just as every vector in vector space can be represented as linear combination of basis vectors.\n",
    "\n",
    "This is a generalization of linear regression that essentially replace each input with a function of the input."
   ]
  },
  {
   "cell_type": "raw",
   "id": "b6edc805",
   "metadata": {},
   "source": [
    "16. Describe how logistic regression works."
   ]
  },
  {
   "cell_type": "raw",
   "id": "ad40db6e",
   "metadata": {},
   "source": [
    "Logistic regression is a statistical analysis method to predict a binary outcome such as yes or no, based on prior observations of dataset.\n",
    "A logistic regression model predicts a dependent data variable by analyzing the relationship between one or more existing independent variables.\n",
    "\n",
    "It find a line in such a way that best seperable for the given data set with minimum errors.It is basically from linear regression model and uses a logitic function (sigmoid function) ."
   ]
  }
 ],
 "metadata": {
  "kernelspec": {
   "display_name": "Python 3 (ipykernel)",
   "language": "python",
   "name": "python3"
  },
  "language_info": {
   "codemirror_mode": {
    "name": "ipython",
    "version": 3
   },
   "file_extension": ".py",
   "mimetype": "text/x-python",
   "name": "python",
   "nbconvert_exporter": "python",
   "pygments_lexer": "ipython3",
   "version": "3.9.7"
  }
 },
 "nbformat": 4,
 "nbformat_minor": 5
}

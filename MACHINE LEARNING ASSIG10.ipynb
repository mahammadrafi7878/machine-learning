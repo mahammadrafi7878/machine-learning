{
 "cells": [
  {
   "cell_type": "raw",
   "id": "922d70ed",
   "metadata": {},
   "source": [
    "1.\tDefine the Bayesian interpretation of probability."
   ]
  },
  {
   "cell_type": "raw",
   "id": "801bf5e9",
   "metadata": {},
   "source": [
    "Bayesian probability is an interpretation of the concept of probability , in which instead of frequency or propensity of some phenemenon , Probability is interpreted as reasonable expectation.\n",
    "Bayesian probability is the process of using probability to try to predict the likelihood of certain events occuring in the future.\n",
    "\n",
    "formula\n",
    "    P(A|B) = (P(B/A) P(B))/P(A)"
   ]
  },
  {
   "cell_type": "raw",
   "id": "c5474c94",
   "metadata": {},
   "source": [
    "2.\tDefine probability of a union of two events with equation."
   ]
  },
  {
   "cell_type": "raw",
   "id": "3993bf82",
   "metadata": {},
   "source": [
    "For any two events A and B, we define new event AUB called the union of two events A and B consist of all outcomes that rae in A or B or in both A and B.\n",
    "   i.e  the event AUB will occur if eiether A or B occurs.\n",
    "   \n",
    "  1.determine P(A) , the probability of first event occuring.\n",
    "  2.deterne P(B), the probability of second event occuring.\n",
    "  3.Determine P(A intersection B), the probability of both events occuring at the same time. The probability is 0 , if both events are mutually exclusive  or If A and B are independent to each othetr, then probability is P(A)P(B)\n",
    "  4.Calculate the probability of union of two events P(AUB) by adding P(A) to P(B) and subtracting  P(A intersection B) from the sum if A and B are not mutually exclusive."
   ]
  },
  {
   "cell_type": "raw",
   "id": "5b7ece35",
   "metadata": {},
   "source": [
    "3.\tWhat is joint probability? What is its formula?"
   ]
  },
  {
   "cell_type": "raw",
   "id": "18d4c365",
   "metadata": {},
   "source": [
    "A joint probqability is posibility of occuring one or more independent events simultaneously, denotd as p(A intersection B) or P(A and B) . One can caqlculate it by multiplying theprobability of both outcomes P(A) * P(B)\n",
    "\n",
    "          Jiont probability P(A and B)=P(A) * P(B)\n",
    "    1Find the probability of two events seperately.\n",
    "    2.Both probabilities must be multiply to calculate joint probability.\n",
    " Joint probability is a statistical measure that calculates the likelihood of two evevnts occuring together and at same point in time.\n",
    "   Joint probability is the probability of event Y occuring at the same time that event X occurs."
   ]
  },
  {
   "cell_type": "raw",
   "id": "e7bf192a",
   "metadata": {},
   "source": [
    "4.\tWhat is chain rule of probability?"
   ]
  },
  {
   "cell_type": "raw",
   "id": "b45c4ee5",
   "metadata": {},
   "source": [
    "The chain rule or general product rule , calculates any componenet of the joint distribution of a set of random variables using only conditional probabilities .\n",
    "This probability theory is used as a foundation for back propagation and creating  Bayesian networks.\n",
    "In probability theory , The chain rule permitsw the calculation of any member of the joint distributionof a set of random variables using only conditional probaaility."
   ]
  },
  {
   "cell_type": "raw",
   "id": "27fe04a2",
   "metadata": {},
   "source": [
    "5.\tWhat is conditional probability means? What is the formula of it?"
   ]
  },
  {
   "cell_type": "raw",
   "id": "c15dfcbf",
   "metadata": {},
   "source": [
    "The probability of occurance of any event A when another event B in relation to A has already occured is known as conditional probability . It is depicted as \n",
    "      P(A/B)= P(A intersection B)/P(B)\n",
    "      \n",
    "      conditional probability refers to the chances that some outcome occurs given that another event has already occured it is often reffered as the probability of A given B written as P(A/B)= P(A intersection B)/P(B)"
   ]
  },
  {
   "cell_type": "raw",
   "id": "c8346047",
   "metadata": {},
   "source": [
    "6.\tWhat are continuous random variables?"
   ]
  },
  {
   "cell_type": "raw",
   "id": "6d1746ef",
   "metadata": {},
   "source": [
    "A random variable 'X' is continuous if possible values comprise eiether a single interval on the number line or a union of disjoint intervals.\n",
    "A continuous random variable is one which takes an infinite number of possible values.These are usually measurements . example :wewight \n",
    "A variable is said to be continous if it can assume an infinite number of real values within a given interval."
   ]
  },
  {
   "cell_type": "raw",
   "id": "450cfa7c",
   "metadata": {},
   "source": [
    "7.\tWhat are Bernoulli distributions? What is the formula of it?"
   ]
  },
  {
   "cell_type": "raw",
   "id": "3b2ebab8",
   "metadata": {},
   "source": [
    "The bernouli distribution  describes events having exactly two outcomes which are unique tools in real life . \n",
    "     example: A team will win match or not\n",
    "        \n",
    "        formula   f(k,p)=Pk+(1-P)(1-k)\n",
    "        \n",
    "        'P' probability \n",
    "        'k' possible outcomes \n",
    "        'f' Probability mass function\n",
    "        \n",
    "    Bernouli distribution is a disrete probability distribution where the bernouli random variable can have only 0 or 1 as the outcome.\n",
    "    'p' is probability of success \n",
    "    '1-p' is the probability of failure \n",
    "    \n",
    "  The formula for PMF and CDF is \n",
    "   PMF= f(x,p)= p  if x=1,   q=1-p  if x=0\n",
    "   CDF =F(x,p)=0  if x<0,   1-p   if 0<x<1,   1 if X>1"
   ]
  },
  {
   "cell_type": "raw",
   "id": "abe0a41c",
   "metadata": {},
   "source": [
    "8.\tWhat is binomial distribution? What is the formula?"
   ]
  },
  {
   "cell_type": "raw",
   "id": "df5a3149",
   "metadata": {},
   "source": [
    "In probability theory and statistics the bionomial distribution with parameters n & p is the discrete probability distribution of the number of succes in a sequence of n, independent experiments.\n",
    "A single success or failure experiment is called a bernoli, trail or bernouli experiments and a sequence of outcomes is called a bernouli proces.For a single trail i.e n=1 , the binomial distribution is called bernouli distribution  \n",
    "\n",
    "   PMF  (n k)  p^k q^n-k\n",
    "   CDF   Iq(n-k,1+k)"
   ]
  },
  {
   "cell_type": "raw",
   "id": "8543db8d",
   "metadata": {},
   "source": [
    "9.\tWhat is Poisson distribution? What is the formula?"
   ]
  },
  {
   "cell_type": "raw",
   "id": "0ecf1e5a",
   "metadata": {},
   "source": [
    "The poission distribution is a probability model which can be used to find the probability of a single event occuring a given numer of time in interval of time.\n",
    "The occurance of these events must be determined by chance alone which implies that infomation about the occurance of any one event cannot be used to predict  the occurance of any other event .\n",
    "It is wroth nothing that only the occurance of an event can be counted, the non occurance of event cannot be calculated.\n",
    "\n",
    "     poission distribution formula is given as   p(X=x)=Lambda^x*e^(-lambda) / x!\n",
    "     \n",
    "        x=0,1,2,3,,,\n",
    "        lambda =mean number of occurance in interval\n",
    "        e=2.71"
   ]
  },
  {
   "cell_type": "raw",
   "id": "97308ce6",
   "metadata": {},
   "source": [
    "10.\tDefine covariance."
   ]
  },
  {
   "cell_type": "raw",
   "id": "e8b0b676",
   "metadata": {},
   "source": [
    "Covariance is statistical tool that is used to determine the relationship between the movement of two random variables .\n",
    "Covariance refers to the measure of the directional relationship between two random variables."
   ]
  },
  {
   "cell_type": "raw",
   "id": "a1222cbf",
   "metadata": {},
   "source": [
    "11.\tDefine correlation"
   ]
  },
  {
   "cell_type": "raw",
   "id": "e0631323",
   "metadata": {},
   "source": [
    "Correlation is statistical measure that expresses the extent to which two variables are linearly related.\n",
    "Correlation is statistical measure that desribes the size and direction of relationship between two or more variables."
   ]
  },
  {
   "cell_type": "raw",
   "id": "d947acf4",
   "metadata": {},
   "source": [
    "12.\tDefine sampling with replacement. Give example."
   ]
  },
  {
   "cell_type": "raw",
   "id": "8fb94888",
   "metadata": {},
   "source": [
    "lets say randomly sampling then, sampling with repalcement the data point occur in one dataset will occur in future dataset also. Example: in bagging technique we use sampling with replace ment."
   ]
  },
  {
   "cell_type": "raw",
   "id": "d6cb5f5b",
   "metadata": {},
   "source": [
    "13.\tWhat is sampling without replacement? Give example."
   ]
  },
  {
   "cell_type": "raw",
   "id": "85f2e2b9",
   "metadata": {},
   "source": [
    "lets say randomly sampling then, sampling with repalcement the data point  occur in one dataset will doesnot occur in future dataset also.\n",
    "Examle : pasting appraoch"
   ]
  },
  {
   "cell_type": "raw",
   "id": "078a9c8d",
   "metadata": {},
   "source": [
    "14.\tWhat is hypothesis? Give example"
   ]
  },
  {
   "cell_type": "raw",
   "id": "69c4fe58",
   "metadata": {},
   "source": [
    "A hypothesis is a function that best desribes the target in ML algorithms.\n",
    "The hypothesis that an algorithm would come up depends upon the restrictions and biases that we have imposed on data.\n",
    "Hypothetically assuming a real value.\n",
    "example: tossing a coin , here we assume hypothetically that coin is fair one."
   ]
  },
  {
   "cell_type": "code",
   "execution_count": null,
   "id": "d622b279",
   "metadata": {},
   "outputs": [],
   "source": []
  }
 ],
 "metadata": {
  "kernelspec": {
   "display_name": "Python 3 (ipykernel)",
   "language": "python",
   "name": "python3"
  },
  "language_info": {
   "codemirror_mode": {
    "name": "ipython",
    "version": 3
   },
   "file_extension": ".py",
   "mimetype": "text/x-python",
   "name": "python",
   "nbconvert_exporter": "python",
   "pygments_lexer": "ipython3",
   "version": "3.9.7"
  }
 },
 "nbformat": 4,
 "nbformat_minor": 5
}

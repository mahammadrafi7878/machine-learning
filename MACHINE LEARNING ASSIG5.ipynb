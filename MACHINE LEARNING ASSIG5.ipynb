{
 "cells": [
  {
   "cell_type": "raw",
   "id": "3491f031",
   "metadata": {},
   "source": [
    "1. What are the key tasks that machine learning entails? What does data pre-processing imply?"
   ]
  },
  {
   "cell_type": "raw",
   "id": "dd450e2a",
   "metadata": {},
   "source": [
    "The key tasks involved in machine learning are\n",
    "\n",
    "1.Collecting data\n",
    "2.Exploratory data analysis \n",
    "3.Preprocessing\n",
    "4.Building model\n",
    "5.Evaluation model\n",
    "\n",
    "      Data preprocessing is a component of data preparartion describes any type of processing performed on raw data to prepare it for another data processing procedire.It has traditionally been an important preliminary step for data minning process.\n",
    "      Data preprocessing is he concept of changing the raw data into a clean dataset.The data is preprocessed in order to check missing values , noising data and other inconsistencies before executing into the algorithm."
   ]
  },
  {
   "cell_type": "raw",
   "id": "27fe8510",
   "metadata": {},
   "source": [
    "2. Describe quantitative and qualitative data in depth. Make a distinction between the two."
   ]
  },
  {
   "cell_type": "raw",
   "id": "bc228008",
   "metadata": {},
   "source": [
    "Quantitative data(NUMERICAL DATA) is any form of measurable data such as weight , height ,rainfall ..etc\n",
    "Qualitative data(CATEGORICAL DATA) is stored by defining characteristics , This can include gender,home town ..etc\n",
    "\n",
    "Quantative data again divided into two types 1.Continuos data 2.Discrete data.\n",
    "The data which has continuous in nature is called as continuous data  example : height , weight etc\n",
    "The data which has discrete in nature is called as discrete data Example : number of students in a class , number of days in a week etc\n",
    "\n",
    "Qualitqative data also divided into two types 1.Nominal data   20.Ordinal data \n",
    "The data which follows ordering of data is called as Ordinal data, example  : rating of service\n",
    "The data which does not follow order is called as the nominal data. Example: gender, country\n",
    "QUANTITATIVE DATA:\n",
    "    1.Quantitative data is a data expressing a certaain quantity amount or range. 1.Qualitative data is the value of datain the form of counts or numbers , where each dataset has unique numerical value.\n",
    "    2.Quantitative is numbers based, countableor mesurable.\n",
    "    3.it tells us how manyb, how much or how often in caqlculations.\n",
    "    4.It is a fixed and universal.\n",
    "    5.It is analyzed using statostiacla analysis.\n",
    "    \n",
    "QUALITATIVE DATA:\n",
    "    1.Qualitative data is desriptive and conceptualfindings collected through questioneries or observations.\n",
    "    2.Qualitative data is interpretitionbased descriptive and relation to language.\n",
    "    3.It helps us to understand why, how or what happend behind certain behaviours.\n",
    "    4.Qualitative data is subjective and unique.\n",
    "    5.It is analysed by grouping data into categories and themes.\n",
    "    "
   ]
  },
  {
   "cell_type": "raw",
   "id": "91075f22",
   "metadata": {},
   "source": [
    "3. Create a basic data collection that includes some sample records. Have at least one attribute from each of the machine learning data types."
   ]
  },
  {
   "cell_type": "raw",
   "id": "8c323004",
   "metadata": {},
   "source": [
    "Data collection allows us to capture a record of past events so that we can use data analysis to find recurring pattern from those patterns, we can build a predictive models using machine learning algorithms , That look for trend and predict future analysis.\n",
    "\n",
    "We can read some sample of recoeds from CSV,EXCEL,GITHUB RAW and HTML pages , to read this we use pandas library\n",
    "import pandas as pd\n",
    "READING FROM CSV FILE:\n",
    "   pd.read_csv('path filename.csv')\n",
    "READING FROM EXCEL SHEET:\n",
    "   pd.read_excel('path filename .xlsx')\n",
    "READING FROM GITHUB:\n",
    "   pd.read_csv('githublink.csv')\n",
    "   pd.read_excel('githublink.xlasx)\n",
    "READING FROM HTML PAGE:\n",
    "   pd.read_html('pagelink') "
   ]
  },
  {
   "cell_type": "code",
   "execution_count": 24,
   "id": "7344ec31",
   "metadata": {},
   "outputs": [
    {
     "name": "stdout",
     "output_type": "stream",
     "text": [
      "   PassengerId  Survived  Pclass  \\\n",
      "0            1         0       3   \n",
      "1            2         1       1   \n",
      "\n",
      "                                                Name     Sex   Age  SibSp  \\\n",
      "0                            Braund, Mr. Owen Harris    male  22.0      1   \n",
      "1  Cumings, Mrs. John Bradley (Florence Briggs Th...  female  38.0      1   \n",
      "\n",
      "   Parch     Ticket     Fare Cabin Embarked  \n",
      "0      0  A/5 21171   7.2500   NaN        S  \n",
      "1      0   PC 17599  71.2833   C85        C  \n",
      "PassengerId      int64\n",
      "Survived         int64\n",
      "Pclass           int64\n",
      "Name            object\n",
      "Sex             object\n",
      "Age            float64\n",
      "SibSp            int64\n",
      "Parch            int64\n",
      "Ticket          object\n",
      "Fare           float64\n",
      "Cabin           object\n",
      "Embarked        object\n",
      "dtype: object\n"
     ]
    }
   ],
   "source": [
    "import pandas as pd\n",
    "df=pd.read_csv('https://raw.githubusercontent.com/datasciencedojo/datasets/master/titanic.csv')\n",
    "print(df.head(2))\n",
    "print(df.dtypes)\n",
    "# in this data set we can see nominal ,ordinal, continous attributes"
   ]
  },
  {
   "cell_type": "raw",
   "id": "9c5605c4",
   "metadata": {},
   "source": [
    "4. What are the various causes of machine learning data issues? What are the ramifications?"
   ]
  },
  {
   "cell_type": "raw",
   "id": "713ae076",
   "metadata": {},
   "source": [
    "common issues in ml are\n",
    "     The major issue that come while using machine learning algorithms is lack of quality as well as quantity of data.\n",
    "     Althought data plays a vital role in the processing machine learning also many datascientists claim that inadequite data, noisy data and unclean data are extremely exhasting the machine ;earning algoritms.\n",
    "     Some simple tasks requires thousands of simple data and some advance such as speech recognigitio requoire millions of sample data.\n",
    "     \n",
    "The major problems with data are \n",
    "\n",
    "NOISY DATA:\n",
    "     It is responsible for an inaccurate prdiction that affects the decision as well as accuracy in classification task.\n",
    "INCORRECT DATA:\n",
    "      It is also responsible for faulty programming and results obtained in ML models , Hence incorrect data may affect accuracyof results.\n",
    "GENERALIZATION OF OUTPUT DATA:\n",
    "           Some times it is also found that generalizing ouput becomes complex , which resultsin comparitevely poor future actions.\n",
    "           \n",
    "           Among these we may get poor quality of data, Non representing training data, Overfitting & under fitting and data bias issues."
   ]
  },
  {
   "cell_type": "raw",
   "id": "3c50cf96",
   "metadata": {},
   "source": [
    "5. Demonstrate various approaches to categorical data exploration with appropriate examples."
   ]
  },
  {
   "cell_type": "raw",
   "id": "dece6e44",
   "metadata": {},
   "source": [
    "CATEGORICAL VARIABLE: \n",
    "         Such variables takes on a fixed and limited number of possible values , for examplesx grades ,genders, blood group type.\n",
    "         Also in the case of categorical variables the logical order is not same as categorical data.example: one,two ,three   But the sorting of these variables uses logical order for example gender is a categorical variable and has categories male and female and thereis no intrinsic ordering  to the categories .\n",
    "         A purely categorical variable is one that simply allows you to assign categories but you cannot clearly order the variables.\n",
    "         \n",
    "  CATEGORICAL DATA EXPLORATION or METRICES FOR CATEGORICAL DATA:\n",
    "  1.MODE:    most frequency occuring values in the giveen data \n",
    "      example:  rat, cat , bat , rat ,sat ,not    in this data the most ocuured is 'rat'\n",
    "   2.EXPECTED VALUE:\n",
    "   \n",
    "       When working in Ml , categories have to be associated with a numerical value , so as to give understanding to the machine.This gives an average value based on the categeory probability of occuring i.e expected value \n",
    "       1.Multiply each outcome by its probability of ocuuring\n",
    "       2.sum these values\n",
    "    \n",
    "    so,It is the sum of values times their probability of occurance  often used to sum up factor variables.\n",
    "    \n",
    " BAR CHART:\n",
    "      Frequency of each category plotted as bar.\n",
    " PIE CHART: \n",
    "        Frequency of each category plotted as wedges. It is a circular graph , Where the arc length of each slice is propotional to quantity it represents."
   ]
  },
  {
   "cell_type": "raw",
   "id": "707c71ab",
   "metadata": {},
   "source": [
    "6. How would the learning activity be affected if certain variables have missing values? Having said that, what can be done about it?"
   ]
  },
  {
   "cell_type": "raw",
   "id": "1a95264c",
   "metadata": {},
   "source": [
    "Many machine learning algorithms fails if the data set contains missing values.You may end up building a biased model which will lead to incorrect results if the missing values are not handled properly.\n",
    "KNN,Naive Bayes supports data with missing values.One of the way handling missing values is the deletion of rows or columns having null values.\n",
    "If any columns will have more than half null values then delete the row or column.\n",
    "Another way is to replace null values with mean or medain or mode of that column.\n",
    "\n",
    "Delete row with misssing values we use dropna(), for replacing with arbitary values we use fillna() functions."
   ]
  },
  {
   "cell_type": "raw",
   "id": "d4d0b1b4",
   "metadata": {},
   "source": [
    "7. Describe the various methods for dealing with missing data values in depth."
   ]
  },
  {
   "cell_type": "raw",
   "id": "f8c711d1",
   "metadata": {},
   "source": [
    "There are many ways or methods for filling null values ,some of them are\n",
    "1.Random values.\n",
    "2.Forword filling.\n",
    "3.Backword filling.\n",
    "4.statistical approches(mean,median,mode).\n",
    "5.Drop thatr particular column.\n",
    "6.KNN imputer.\n",
    "We calculate that ML algorithms which supports missing values (KNN,Naive bayes), we can build our own models also."
   ]
  },
  {
   "cell_type": "raw",
   "id": "ca6bf8c1",
   "metadata": {},
   "source": [
    "8. What are the various data pre-processing techniques? Explain dimensionality reduction and function selection in a few words."
   ]
  },
  {
   "cell_type": "raw",
   "id": "bee12f42",
   "metadata": {},
   "source": [
    "Data preprocessing transforms data into a format that is more easily and effectively processed in data minimg, machine learning and other data scientist tasks.\n",
    "There are 6 data preprocessing techniques to clean data.\n",
    "\n",
    "1.DIMENSIONALITY REDUCTION:\n",
    "    The dimensionality reduction is concerned with reducing the number of input features in traing data, In real world dataset we usually have tons of attributes, and if we dont reduce this number , it will effect the model performance later.\n",
    "       When we feed it this dataset  , reducing the number of featiures while keeping as much variation in the dataset as possible we have positive impact in many waqys .\n",
    "       \n",
    "       >Requiring less computational resources\n",
    "       >Increasing the overall performance of the model\n",
    "       >Preventing Overfitting and Under fitting ,avoiding multicollinearity\n",
    "\n",
    "2.FEATURE SELECTION:\n",
    "   Feature selection refers to the process of selecting the most important variables related to your prediction variable, in other words selecting the attributes while contribute most to your model.\n",
    "   Some techniques for this approach that you can apply eiether automatically or manually.\n",
    "   \n",
    "3.CORRELATION:\n",
    "     Correlation between the features is the most common approach which drops some features that have a high correlation with other.\n",
    " \n",
    "4.STATISTICAL TESTS:\n",
    "     Another alternate is to use statistical tests to select the feature , checking the relationship of each feature individuallywith the output variable.  e.g chi-square\n",
    "     \n",
    "5.VARIANCE THRESHOLD: \n",
    "       Another feature selection method is variance threshold , which detects feature with high variability with in the column, selecting those that got over the threshold.The premise of this approach is that features with low variability within themselves have little influence on output variable.\n",
    "6.Recursive feature selection and backword feature selection"
   ]
  },
  {
   "cell_type": "raw",
   "id": "4131a17e",
   "metadata": {},
   "source": [
    "9.\n",
    "\n",
    "i. What is the IQR? What criteria are used to assess it?\n",
    "\n",
    "ii. Describe the various components of a box plot in detail? When will the lower whisker surpass the upper whisker in length? How can box plots be used to identify outliers?\n"
   ]
  },
  {
   "cell_type": "raw",
   "id": "68e4ec93",
   "metadata": {},
   "source": [
    "What is the IQR? What criteria are used to assess it?\n",
    "      IQR is nothing but Inter Quartile Range . In the given dataset the difference between the 25percentile and 75percentile values is IQR.It is used to detect outliers in the given dataset by using IQR. \n",
    "      We can find LOwer fence and Upper Fence \n",
    "      IQR =Q3-Q1\n",
    "      \n",
    "  lower fence=Q1-1.5(IQR)\n",
    "  upper fence=Q3+1.5(IQR)"
   ]
  },
  {
   "cell_type": "raw",
   "id": "36e67625",
   "metadata": {},
   "source": [
    " Describe the various components of a box plot in detail? When will the lower whisker surpass the upper whisker in length? How can box plots be used to identify outliers?\n",
    "      In descriptive statistics , a boxplot is a method for graphical demonstration the locality ,spreadand skewness groups of a numerical data through their quartiles.\n",
    "      In the addition to the box on a box plot,there can be lines extending from the box indicating variability outside the upper and lower quartiles , Thus the plot is also termedas the box and whiscker plot.\n",
    "      Box plots are non parametric , Thus display variation in samples of a statistical population without making any assumption understanding statistical distribution.\n",
    "      The spacing in each subsection of box plot indicates the degree of disperssion and skewness of the data, which are usually describing the FIVE  number series"
   ]
  },
  {
   "cell_type": "code",
   "execution_count": 2,
   "id": "865bc770",
   "metadata": {},
   "outputs": [
    {
     "data": {
      "image/png": "[encoded data removed]",
      "text/plain": [
       "<Figure size 720x504 with 1 Axes>"
      ]
     },
     "metadata": {
      "needs_background": "light"
     },
     "output_type": "display_data"
    }
   ],
   "source": [
    "import matplotlib.pyplot as plt\n",
    "import numpy as np\n",
    "np.random.seed(10)\n",
    "data=np.random.normal(100,20,200)\n",
    "fig=plt.figure(figsize=(10,7))\n",
    "plt.boxplot(data)\n",
    "plt.show()"
   ]
  },
  {
   "cell_type": "raw",
   "id": "1ec1e5d5",
   "metadata": {},
   "source": [
    "10. Make brief notes on any two of the following:\n",
    "\n",
    "1. Data collected at regular intervals\n",
    "\n",
    "2. The gap between the quartiles\n",
    "\n",
    "3. Use a cross-tab\n",
    "\n"
   ]
  },
  {
   "cell_type": "raw",
   "id": "d508430b",
   "metadata": {},
   "source": [
    "3.USE OF CROSS TAB:\n",
    " This method is used to compute a simple cross tabulation of two or more factors by default computes a frequency table of the factors unless an array of values and aggregation function are passed.\n",
    " \n",
    " 2.The gapbetween Quaratiles\n",
    " \n",
    "     IQR is nothing but Inter Quartile Range . In the given dataset the difference between the 25percentile and 75percentile values is IQR.It is used to detect outliers in the given dataset by using IQR. \n",
    "      We can find LOwer fence and Upper Fence \n",
    "      IQR =Q3-Q1\n",
    "      \n",
    "  lower fence=Q1-1.5(IQR)\n",
    "  upper fence=Q3+1.5(IQR)"
   ]
  },
  {
   "cell_type": "raw",
   "id": "daed72eb",
   "metadata": {},
   "source": [
    "1. Make a comparison between:\n",
    "\n",
    "1. Data with nominal and ordinal values\n",
    "\n",
    "2. Histogram and box plot\n",
    "\n",
    "3. The average and median\n"
   ]
  },
  {
   "cell_type": "raw",
   "id": "4447ef3a",
   "metadata": {},
   "source": [
    "Data with nominal and ordinal values: \n",
    "\n",
    "         Nominal values is classified without a natural order , where as ordinal values has a predetermined or natural order.\n",
    "         \n",
    " Histogram and box plot: \n",
    "      Histogram and boxplots are very similar in that they both help to visualize  and describe numeric data.\n",
    "      Histograms are better in determining the underlying distribution of data.\n",
    "      Box plots allow you to compare multiple datasets better than histograms ,They are less detailed and take up less space. \n",
    "      \n",
    "      \n",
    " The average and median: \n",
    "      Average means the summation of all values divide with total number of values. It gives average of dataset values.it is also called as mean. It gives the middle value of distribution of data.\n",
    "      Median is the middle value of a given dataset. If given number of values are odd then exact middle value is median ,other wise average of middle two values.It is a middle value in datsset with out comparing distribution of dataset,"
   ]
  }
 ],
 "metadata": {
  "kernelspec": {
   "display_name": "Python 3 (ipykernel)",
   "language": "python",
   "name": "python3"
  },
  "language_info": {
   "codemirror_mode": {
    "name": "ipython",
    "version": 3
   },
   "file_extension": ".py",
   "mimetype": "text/x-python",
   "name": "python",
   "nbconvert_exporter": "python",
   "pygments_lexer": "ipython3",
   "version": "3.9.7"
  }
 },
 "nbformat": 4,
 "nbformat_minor": 5
}

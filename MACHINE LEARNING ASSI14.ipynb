{
 "cells": [
  {
   "cell_type": "raw",
   "id": "bf788602",
   "metadata": {},
   "source": [
    "1. What is the concept of supervised learning? What is the significance of the name?"
   ]
  },
  {
   "cell_type": "raw",
   "id": "80c8941d",
   "metadata": {},
   "source": [
    "In supervised machine learning we  have one or more independent features and single dependent feature .\n",
    "The dependent feature is also called as superviser of the data , so we call it as supervised machine learning.\n",
    "In supervised machine learning giving a new value it can predict the value belong to which class or categorie in dependenbt or supervised variable."
   ]
  },
  {
   "cell_type": "raw",
   "id": "d2a86d87",
   "metadata": {},
   "source": [
    "2. In the hospital sector, offer an example of supervised learning."
   ]
  },
  {
   "cell_type": "raw",
   "id": "2b4a8d89",
   "metadata": {},
   "source": [
    "Machine learning plays a very important role in the early predictions of medical conditions such s heart attack and diabetes.\n",
    "there are many AI based werables that are being developrd to moniter the health of person and displaying warnings when the devises are observed something  unuasual like."
   ]
  },
  {
   "cell_type": "raw",
   "id": "fac7b589",
   "metadata": {},
   "source": [
    "3. Give three supervised learning examples."
   ]
  },
  {
   "cell_type": "raw",
   "id": "dbe90107",
   "metadata": {},
   "source": [
    "Three supervised learning examples are\n",
    "1.Linear Regression \n",
    "2.Logistic Regression\n",
    "3.Decision Trees"
   ]
  },
  {
   "cell_type": "raw",
   "id": "8af7e673",
   "metadata": {},
   "source": [
    "4. In supervised learning, what are classification and regression?"
   ]
  },
  {
   "cell_type": "raw",
   "id": "e56ee035",
   "metadata": {},
   "source": [
    "In supervised machine learning the target variable or superviser variable having continuous values then it is called as Regression.\n",
    "The target variable contains categorical data or discrete data then it is called as classification."
   ]
  },
  {
   "cell_type": "raw",
   "id": "b8a896d4",
   "metadata": {},
   "source": [
    "5. Give some popular classification algorithms as examples."
   ]
  },
  {
   "cell_type": "raw",
   "id": "a606d0d0",
   "metadata": {},
   "source": [
    "Some popular classification algorithms are \n",
    "1.Logistic Regression\n",
    "2.Decision Tree Classifier\n",
    "3.Random forest classifier \n",
    "4.Support vector classifier \n",
    "5.XG boost classifier"
   ]
  },
  {
   "cell_type": "raw",
   "id": "f83026ac",
   "metadata": {},
   "source": [
    "6. Briefly describe the SVM model."
   ]
  },
  {
   "cell_type": "raw",
   "id": "3c85363b",
   "metadata": {},
   "source": [
    "Support Vector Machine (SVM) is a supervised machine learning algorithmused for both classification and Regression.\n",
    "The objective of SVM is to find a hyperplane in N-dimensional space that  distinctly classify data points.\n",
    "The dimension of the hyper plane depends upon the number of features.\n",
    "If the number of input features is two , Then Hyper plane is just a line.If number of hyperplane become 2D it becomes difficult to imagine when the number of features are exceeded.\n"
   ]
  },
  {
   "cell_type": "raw",
   "id": "179c8ddf",
   "metadata": {},
   "source": [
    "7. In SVM, what is the cost of misclassification?"
   ]
  },
  {
   "cell_type": "raw",
   "id": "4855c28b",
   "metadata": {},
   "source": [
    "Missclassification costs allow you to specify the relative importance of different kind of prediction errors.\n",
    "Misclassification costs are basically weights applied to specific outcomes .\n",
    "These weights are factored into the model and may actually change the prediction.\n",
    "In some contexts certain kind of errors may costly than others for example, It mauy be more costly to classify high risk credit applicant as low risk , Than it is classify low risk applicant as high risk applicant."
   ]
  },
  {
   "cell_type": "raw",
   "id": "7d4f39cf",
   "metadata": {},
   "source": [
    "8. In the SVM model, define Support Vectors."
   ]
  },
  {
   "cell_type": "raw",
   "id": "ab3492db",
   "metadata": {},
   "source": [
    "Support vectors are datapoints that are closer to the hyperplane and influence the position and orientation of the hyperplane.\n",
    "Using these support vectors, we maximizes the margin of the classifier.Deleting the support vectors will change the position of the hyper plane .\n",
    "Support vectors are the points that helps us build our SVM."
   ]
  },
  {
   "cell_type": "raw",
   "id": "66b54178",
   "metadata": {},
   "source": [
    "9. In the SVM model, define the kernel."
   ]
  },
  {
   "cell_type": "raw",
   "id": "941284dd",
   "metadata": {},
   "source": [
    "Kernel is used due to a set of mathematical functions used in support vectors providing the window to manipulate the data.\n",
    "So kernel functions generally transoforms training set of data so that a non linear decision surface is able to transform to a linear equation in higher number of dimensions .\n",
    "The default kernel value of kernel would be RBF.\n",
    "standard kernel function equation k(x bar)=1, if ||x bar|| <=1"
   ]
  },
  {
   "cell_type": "raw",
   "id": "70519742",
   "metadata": {},
   "source": [
    "10. What are the factors that influence SVM's effectiveness?"
   ]
  },
  {
   "cell_type": "raw",
   "id": "c507c9ff",
   "metadata": {},
   "source": [
    "The effectiveness of svm depends upon the selection of kernel,Kernel parameters and soft marigin parameter 'c'.\n",
    "Each pair of parameters is checked using cross - validation and the parameters with best cross validation on accuracr are picked."
   ]
  },
  {
   "cell_type": "raw",
   "id": "288b916e",
   "metadata": {},
   "source": [
    "11. What are the benefits of using the SVM model?"
   ]
  },
  {
   "cell_type": "raw",
   "id": "b0fe02af",
   "metadata": {},
   "source": [
    "The advantages of svm and support vectors:\n",
    "1.SVM works relatively well when there ia clear margin of seperation between classes.\n",
    "2.SVM is more effective in high dimensional space.\n",
    "3.It is effective in cases ,Where the number of dimensions is greater than the number of samples.\n",
    "4.SVM is relatively memory efficient.\n",
    "5.It work well fornon-linear data using svm -kernel's"
   ]
  },
  {
   "cell_type": "raw",
   "id": "238871c7",
   "metadata": {},
   "source": [
    "12.  What are the drawbacks of using the SVM model?"
   ]
  },
  {
   "cell_type": "raw",
   "id": "32aae37e",
   "metadata": {},
   "source": [
    "1.SVM algorithm is not suitable for large datasets.\n",
    "2.SVM does not perform very well when the dataset has more noise i.e target classes are overlapping.\n",
    "3.In cases where number of features for each data point exceeds the number of training data samples,the svm will under perform.\n",
    "4.As the support vector classifier works by putting data points above and below there is no probabilistic explanation for the classification. "
   ]
  },
  {
   "cell_type": "raw",
   "id": "7fdfbf6e",
   "metadata": {},
   "source": [
    "13. Notes should be written on\n",
    "\n",
    "1. The kNN algorithm has a validation flaw.\n",
    "\n",
    "2. In the kNN algorithm, the k value is chosen.\n",
    "\n",
    "3. A decision tree with inductive bias\n",
    "\n"
   ]
  },
  {
   "cell_type": "raw",
   "id": "77b818d3",
   "metadata": {},
   "source": [
    "KNN ALGORITHM HAS VALIDATION FLAW:\n",
    "      Let's take a dataset and splitting into Dtrain, Dtest and Dcv (cross validation)\n",
    " \n",
    " Here using training dataset we find (NN) nearset neighbour, using Dcv we can find the value of error as \n",
    " \n",
    "     ERROR in Dcv =1-ACC in Dcv\n",
    "  To compute training error we use Dtrain for training dataset and for getting accuracy or error , we use Dtrain for training and Dcv for error accuarcy calculation then it is called as VALIDATION ERROR.\n",
    "  \n",
    "  In over fitting the validation error is high and training error is low . In uderfitting the validation error and training error will high.\n"
   ]
  },
  {
   "cell_type": "raw",
   "id": "d1922c32",
   "metadata": {},
   "source": [
    "KNN ALGORITHM ,THE K-VALUE IS CHOSEN:\n",
    "      The optimal k-value will help you to achieve the maximum accuracy of the model, selecting a random k value , In practice K value is usually choosen at random between 3 and 10 but there are no strict smoothening of decision boundaries, but not always better metrics.so it is always about trail error.\n",
    "      Try out different k-values and note their accuracy on testing set.\n",
    "      Choose K value lowest error rate and implement the model.\n",
    "    "
   ]
  },
  {
   "cell_type": "raw",
   "id": "1d81f2ce",
   "metadata": {},
   "source": [
    "A DECISION TREE WITH INDUCTIVE BIAS:\n",
    "        Before learning model from given data and learning algorithm , There are assumptions a learner makes about the algorithm. These assumptions are called as inductive bias.\n",
    "It is the property of the algorithm for e.g in the case of decision tree the depth of decision tree is the inductive bias .\n",
    "To stop over fitting of decision tree , we can do post pruning like giving maximum depth of tree as parameter."
   ]
  },
  {
   "cell_type": "raw",
   "id": "67746bf3",
   "metadata": {},
   "source": [
    "14. What are some of the benefits of the kNN algorithm?"
   ]
  },
  {
   "cell_type": "raw",
   "id": "8e9e6c91",
   "metadata": {},
   "source": [
    "1.It can be used for both classification and regression problems.\n",
    "2.Knn is easy to understand and implement  and does not require a training period.\n",
    "3.The researcher does not need to have initial assumption about how similar or disimilar two examples are.\n",
    "4.KNN only builds a model once a query is performed on dataset.\n",
    "5.The algorithm can be quickly and effectively paralleled in inference time , which is especially useful for large dataset."
   ]
  },
  {
   "cell_type": "raw",
   "id": "8e7dfec8",
   "metadata": {},
   "source": [
    "15. What are some of the kNN algorithm's drawbacks?"
   ]
  },
  {
   "cell_type": "raw",
   "id": "7c67c853",
   "metadata": {},
   "source": [
    "1.KNN is memory consuming than other classifing algorithms as it is requirs you to load the entire datset to run the computation time and costs.\n",
    "2.It requires feature scaling (normalization and standardization in each dimension)\n",
    "3.It is very time complexity and space requires to store is very high."
   ]
  },
  {
   "cell_type": "raw",
   "id": "565a300e",
   "metadata": {},
   "source": [
    "16. Explain the decision tree algorithm in a few words."
   ]
  },
  {
   "cell_type": "raw",
   "id": "029d1407",
   "metadata": {},
   "source": [
    "A decision tree is a non parametric supervised learning algorithm which is utilizes for both classification and regression tasks.\n",
    "It has hierarchical tree structure which consists of root node, branches, internal nodes and leaf nodes.\n",
    "A decision tree is a type supervised machine learning algorithm used to categorize or make predictions based on how previous set of questions werw answered."
   ]
  },
  {
   "cell_type": "raw",
   "id": "4f264e97",
   "metadata": {},
   "source": [
    "17. What is the difference between a node and a leaf in a decision tree?"
   ]
  },
  {
   "cell_type": "raw",
   "id": "e4a9cd30",
   "metadata": {},
   "source": [
    "The root node is just the top most decision node, In other words it is where you start trversing the classification tree.\n",
    "The leaf nodes also cqalled terminal node, are nodes that do not split into more nodes .Leaf nodes are where classes are designed by majority vote."
   ]
  },
  {
   "cell_type": "raw",
   "id": "fd003503",
   "metadata": {},
   "source": [
    "18. What is a decision tree's entropy?"
   ]
  },
  {
   "cell_type": "raw",
   "id": "f82af861",
   "metadata": {},
   "source": [
    "Entropy is a information theory metric that measure the impurity or uncertinity in a group of observations ,It determines how a decision tree chooses to split data.\n",
    "Entropy is nothing but the measure of disorder can think of it as a measure of pure well.\n",
    "The mathematical formula of Entropy is givern as \n",
    "\n",
    "          Entropy = -(p(0) * log(P(0)) + p(1) * log(P(1)))\n",
    "          "
   ]
  },
  {
   "cell_type": "raw",
   "id": "16bf8848",
   "metadata": {},
   "source": [
    "19. In a decision tree, define knowledge gain."
   ]
  },
  {
   "cell_type": "raw",
   "id": "d96de8b6",
   "metadata": {},
   "source": [
    "Information Gain is the basic orientation to decide whether a feature should be used to split a node or the feature with the optimal split, i.e highest value of information gain at a node of decision tree is used as the feature for splitting the node.\n",
    "When we use a node in a decision tree to partition the training instances into smaller subsets the entropy changes. IG is a measure of this change in entropy .\n",
    "suppose 's' is a set of instances , 'A' is an attribute ,'Sv' is subset of 'S' with A+v, and the value of A is the set of all possible values of A then ,\n",
    "\n",
    "\n",
    "       Gain(S,A) = Entropy(S) - sum(Ve) (values(A)*Sv)/S  Entropy (Sv)"
   ]
  },
  {
   "cell_type": "raw",
   "id": "50dc0600",
   "metadata": {},
   "source": [
    "20. Choose three advantages of the decision tree approach and write them down."
   ]
  },
  {
   "cell_type": "raw",
   "id": "a65990ce",
   "metadata": {},
   "source": [
    "1.Simple to understand and interpret .Trees can be visualized.\n",
    "2.Requires little data preperation.\n",
    "3.The cost of using the tree is logerthamic In the number of data points used to train tree.\n",
    "4.Able to handle both numerical and categorical data.\n",
    "5.Able to handle multiple problems.\n",
    "6.Possible to validate a model using statistical tests.That makes it possible to accurate for the reliability of the model."
   ]
  },
  {
   "cell_type": "raw",
   "id": "4c88ada2",
   "metadata": {},
   "source": [
    "21. Make a list of three flaws in the decision tree process.\n"
   ]
  },
  {
   "cell_type": "raw",
   "id": "177e3b7d",
   "metadata": {},
   "source": [
    "Decision tree learners can create over complex less that do not generalize data well.This is called Overfitting.\n",
    "Mechanisms such as pruning , setting the minimum number of samples required at leaf nodes or setting the maximum depth of the tree are necessary to avoid this problem.\n",
    "Decision tree can be unstable because smqall variation in the data might result in completely different tree being generated.\n",
    "Predictions of decision tree are neither smooth nor continuous but picewise constant approximations.\n",
    "Decision tree learners creates biased trees if some classes dominate . It is therefor recommended to balance the dataset prior to fitting with the decision tree."
   ]
  },
  {
   "cell_type": "raw",
   "id": "07e5b1f2",
   "metadata": {},
   "source": [
    "22. Briefly describe the random forest model."
   ]
  },
  {
   "cell_type": "raw",
   "id": "5bc55e7e",
   "metadata": {},
   "source": [
    "A random forest algorithm is a supervised machine learning , which is extremely popular and is used for classification and regresssion problems in ML.we know that forest comprises numerous trees and the more trees more it will robust.\n",
    "The following steps explain the working Random Forest algorithm\n",
    "1.Select random samples from a given data or training set.\n",
    "2.This algorithm will construct a decision tree for every training data.\n",
    "3.Voting will be take place by averaging decision tree.\n",
    "4.Finding select the most voted prediction result as the final prediction result.\n",
    "   These combination of multiple models is called ensemble techniques."
   ]
  }
 ],
 "metadata": {
  "kernelspec": {
   "display_name": "Python 3 (ipykernel)",
   "language": "python",
   "name": "python3"
  },
  "language_info": {
   "codemirror_mode": {
    "name": "ipython",
    "version": 3
   },
   "file_extension": ".py",
   "mimetype": "text/x-python",
   "name": "python",
   "nbconvert_exporter": "python",
   "pygments_lexer": "ipython3",
   "version": "3.9.7"
  }
 },
 "nbformat": 4,
 "nbformat_minor": 5
}
